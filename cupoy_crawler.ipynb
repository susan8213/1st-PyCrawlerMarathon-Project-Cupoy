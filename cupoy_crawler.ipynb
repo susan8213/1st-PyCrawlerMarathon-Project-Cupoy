{
 "nbformat": 4,
 "nbformat_minor": 2,
 "metadata": {
  "language_info": {
   "name": "python",
   "codemirror_mode": {
    "name": "ipython",
    "version": 3
   },
   "version": "3.6.4-final"
  },
  "orig_nbformat": 2,
  "file_extension": ".py",
  "mimetype": "text/x-python",
  "name": "python",
  "npconvert_exporter": "python",
  "pygments_lexer": "ipython3",
  "version": 3,
  "kernelspec": {
   "name": "python36464bitvenvpycrawlercupoyvenv705729c413f14ecdbcade731836ff87a",
   "display_name": "Python 3.6.4 64-bit ('venv-pycrawler-cupoy': venv)"
  }
 },
 "cells": [
  {
   "cell_type": "code",
   "execution_count": 2,
   "metadata": {},
   "outputs": [
    {
     "name": "stdout",
     "output_type": "stream",
     "text": "The history saving thread hit an unexpected error (DatabaseError('database disk image is malformed',)).History will not be written to the database.\n"
    }
   ],
   "source": [
    "import os\n",
    "import pandas\n",
    "import requests\n",
    "from newspaper import Article, Config\n",
    "from bs4 import BeautifulSoup\n",
    "from multiprocessing import Pool\n",
    "\n",
    "\n",
    "length = 50\n",
    "total_length = 500\n",
    "\n",
    "group_items = {}\n",
    "\n",
    "url = 'https://www.cupoy.com/MixNewsMongoAction.do'"
   ]
  },
  {
   "cell_type": "code",
   "execution_count": 1,
   "metadata": {},
   "outputs": [],
   "source": [
    "def write_article_content(article_id, url, description=None):\n",
    "\n",
    "    # Need Headers user agent: https://www.newmobilelife.com\n",
    "    config = Config()\n",
    "    config.browser_user_agent = 'Mozilla/5.0 (Macintosh; Intel Mac OS X 10_10_1) AppleWebKit/537.36 (KHTML, like Gecko) Chrome/39.0.2171.95 Safari/537.36'\n",
    "    article = Article(url, config=config)\n",
    "    article.download()\n",
    "    article.parse()\n",
    "    \n",
    "    if not article.text:\n",
    "        response = requests.get(url).text\n",
    "        soup = BeautifulSoup(response)\n",
    "\n",
    "        if soup.find('article'):\n",
    "            # www.bnext.com.tw\n",
    "            text = [p.text for p in soup.find('article').find_all('p')]\n",
    "            article.text = '\\n'.join(text)\n",
    "        elif 'www.jiqizhixin.com' in url:\n",
    "            text = [p.text for p in soup.find_all('section')]\n",
    "            article.text = '\\n'.join(text)\n",
    "        \n",
    "        if description and not article.text:\n",
    "            article.text = description\n",
    "        \n",
    "        # selinum https://www.managertoday.com.tw/\n",
    "\n",
    "\n",
    "    save_dir = 'articles'\n",
    "    if not os.path.isdir(save_dir):\n",
    "        os.mkdir(save_dir)\n",
    "    article_path = os.path.join(save_dir, '{:04d}.txt'.format(article_id))\n",
    "    with open(article_path, 'w') as f_:\n",
    "        f_.write(article.title + '\\n')\n",
    "        f_.write(article.text)"
   ]
  },
  {
   "cell_type": "code",
   "execution_count": 3,
   "metadata": {},
   "outputs": [],
   "source": [
    "def get_articles(start_news_id, length):\n",
    "    \n",
    "    items = pandas.DataFrame()\n",
    "    payload = {'op': 'getTopMixNews', 'nationid': 'TW', 'startNewsID': start_news_id, 'len': length}\n",
    "\n",
    "    try:\n",
    "        count = 0\n",
    "        response = requests.get(url, params=payload).json()\n",
    "        for item in response['items']:\n",
    "            article_id = start_news_id + count\n",
    "            item_df = pandas.DataFrame({\n",
    "                'title': item.get('title'),\n",
    "                'description': item.get('description'),\n",
    "                'linkurl': item.get('linkurl'),\n",
    "                'keywordtrend': item['metrics']['keywordtrend'],\n",
    "                'uidactscore': item['metrics']['uidactscore'],\n",
    "                'socialactscore': item['metrics']['socialactscore'],\n",
    "                'activescore': item['metrics']['activescore'],\n",
    "                'groups': (str(item['bucketgrpids']) if 'bucketgrpids' in item else None)\n",
    "            }, index=[article_id])\n",
    "\n",
    "            print(article_id, item['title'], sep='\\t')\n",
    "            if item.get('linkurl'):\n",
    "                write_article_content(article_id, item['linkurl'], item['description'])\n",
    "            \n",
    "            items = items.append(item_df)\n",
    "            count +=1\n",
    "        return items\n",
    "    except Exception as err:\n",
    "        print(err)\n",
    "        return\n",
    "\n"
   ]
  },
  {
   "cell_type": "code",
   "execution_count": 4,
   "metadata": {},
   "outputs": [
    {
     "name": "stdout",
     "output_type": "stream",
     "text": "150\t〈定存理財術〉儲蓄前先做三件事 一年至少多領8753元起跳-鉅亨網-觀點新聞-商周財富網\n50\tCMHK 推抗疫八招：免費送 5GB 全速數據，免數據睇 UTV (包括有線新聞臺)！ | Qooah\n100\t用復古未來主義設計電話！美國傳奇工業設計師用未來感完美復刻古董電話Bell 302-風傳媒\nBuilding prefix dict from /home/susan8213/.pyenv/versions/venv-pycrawler-cupoy/lib/python3.6/site-packages/jieba/dict.txt ...\nLoading model from cache /tmp/jieba.cache\nBuilding prefix dict from /home/susan8213/.pyenv/versions/venv-pycrawler-cupoy/lib/python3.6/site-packages/jieba/dict.txt ...\nLoading model from cache /tmp/jieba.cache\nBuilding prefix dict from /home/susan8213/.pyenv/versions/venv-pycrawler-cupoy/lib/python3.6/site-packages/jieba/dict.txt ...\nLoading model from cache /tmp/jieba.cache\n0\t疫情帶動宅經濟，電商徵才月薪上看 10 萬元 | TechNews 科技新報\nBuilding prefix dict from /home/susan8213/.pyenv/versions/venv-pycrawler-cupoy/lib/python3.6/site-packages/jieba/dict.txt ...\nLoading model from cache /tmp/jieba.cache\nLoading model cost 2.8760409355163574 seconds.\nPrefix dict has been built succesfully.\nLoading model cost 2.9840006828308105 seconds.\nPrefix dict has been built succesfully.\n151\t中芯：最糟狀況還沒來 肺炎疫情影響恐在Q2浮現 | Anue鉅亨 - 國際政經\n101\t女人年過30還單身，沒什麼不好但總有點焦慮？看看這五種女人你是哪一種，釐清情緒才能做更好的自己-風傳媒\n152\t〈臺廠復工進度〉鴻海武漢廠提交復工申請 春節期間留廠及當地員工將首批復工 | Anue鉅亨 - 臺股新聞\n102\t2020年初「破壞式創新大師」克里斯汀生殞落，從《創新的兩難》緬懷巨擘 | SmartM 新網路科技\nLoading model cost 3.2754664421081543 seconds.\nPrefix dict has been built succesfully.\n1\t臺積電先進製程產能太搶手，華為受肺炎疫情衝擊也不敢砍單 | TechNews 科技新報\n103\t管樂吹奏者要小心！英國胸腔協會研究：管樂吹奏者患呼吸道感染機率比常人高16％-風傳媒\nLoading model cost 5.905403137207031 seconds.\nPrefix dict has been built succesfully.\n51\tGogoro 更新性能款 ABS 車型，推出石墨灰 Gogoro S2 ABS 與 S2 Café Racer ABS | T客邦\n2\t退出主場！三星不在南韓販售 Exynos 處理器 S20 手機 | TechNews 科技新報\n153\t日本旅遊疫情警示升級 外交部：已表明欲接回鑽石公主臺人 | Anue鉅亨 - 臺灣政經\n3\t駭客、工程師鍵盤救國！實名系統 72 小時上線幕後 | TechNews 科技新報\n104\t你時間管理出問題，真正的原因只有一個 | 知 識 家\n52\t面對分歧，高朋滿座的「慕尼黑安全會議」能否實現抱負？ - The News Lens 關鍵評論網\n4\t臺商第一手觀察：武漢疫情引爆中國 5 大經濟隱憂 | TechNews 科技新報\n154\t燿華去年稅後純益創新高 年增1.63倍 每股純益2.8元 | Anue鉅亨 - 臺股新聞\n53\t契訶夫《海鷗》劇評：不是去想而是去做，不是去演而是去活 - The News Lens 關鍵評論網\n105\t「我留在這裡，至少摸得到、照顧得到…」女同志放棄回臺，選擇留在武漢守護女友-風傳媒\n5\t「嚴肅地」的英文怎麼說？ | 經理人\n54\t戲中如何有《壁》？走進劇場探索白色記憶的血跡 - The News Lens 關鍵評論網\n155\t〈武漢肺炎疫情〉鴻海轉投資深圳裕展精密 新增N95口罩產銷業務 | Anue鉅亨 - 臺股新聞\n106\t【林富元專欄】疫情再嚴重，投資也不能緩！矽谷投資人分享「三生」心法，教你成為投資贏家-風傳媒\n55\t非洲首例「武漢肺炎」確診出現在埃及，有病毒但「無症狀」的外籍人士 - The News Lens 關鍵評論網\n156\t郭明錤：新iPhone之5G PA需求與穩懋iPhone業務 可能低於預期​ | Anue鉅亨 - 國際股\n107\t想拍出「高級大片」，光線很重要！電影劇組親授打光手法，不用網美濾鏡照樣能有超美照片-風傳媒\n56\tMicrosoft Edge 離線安裝檔下載，沒有網路也能安裝微軟瀏覽器\n157\t美國商務部：再延長華為臨時許可45天 | Anue鉅亨 - A股\n57\t地震來了！如何躲、如何逃、地震包該裝什麼，你知道嗎？ | 經理人\n108\t替大公司工作已不再是保障，自僱時代人人都該懂得7件事！ | 知 識 家\n6\t那些對電子產品和 Wi-Fi 過敏的人，整個人生被「隔離」 | TechNews 科技新報\n158\t首座IoT資安檢測中心落成，導入國際標準加速廠商接軌全球｜數位時代\n109\t「你沒窮過所以不懂」──每天上百萬人持續返回中國第二大疫區，他們為何要錢不要命？ ｜ 馬振洲／華人文創聚焦 ｜ 換日線 Crossing\n7\t每日一句學管理 | 經理人\n58\t微軟新系統 Windows 10X，能為雙螢幕筆電帶來什麼？ | TechNews 科技新報\n110\t休想逼我上學！中國小學生不滿學校「停課不停學」，團結出征灌負評、下架教學軟體-風傳媒\n159\t三星新推出Galaxy S20系列手機，但搭載自家處理器的版本卻不在南韓上市｜數位時代\n111\t荷蘭男性平均185公分！過人身高絕不只是基因優勢，「阿度仔」老爸公開飲食祕密…-風傳媒\n59\t用巨型長鞭「甩」包裹、發射衛星？亞馬遜最新專利曝光 - INSIDE\n160\t武漢肺炎刺激電商宅經濟！PChome暫停部分快速到貨服務：比衛生紙之亂更狂｜數位時代\n161\t臺灣拓元售票系統被收購！買家紐約上市公司Live Nation，瞄準亞洲票券市場｜數位時代\n60\t同事、主管約聚餐應酬，可以不去嗎？職場人際關係的真相 | 經理人\n8\tSamsung Galaxy Z Flip 已經被人拆解\n112\t航空產業恐面臨整併潮，何時復甦全看V形曲線｜數位時代\n61\t中國北上深廣的「封閉式管理」，跟「封城」有何不同？ | TechNews 科技新報\n162\tMartech新創愛酷智能完成7,000萬高額Pre-A輪募資，投資方為新安東京海上與交大天使投資｜數位時代\n62\t配合學界研究 Facebook 提供隱私保護數據共享 - INSIDE\n9\t【網讚：科技島就是快】追蹤居家隔離者的系統才上線，政府隔天再公佈將推「入境檢疫系統」防入境者謊報資料 | BuzzOrange\n163\t賓士大賣又如何！受柴油引擎訴訟與電動車影響，母集團仍要裁員節省支出 | 車壇新訊 | 國際車訊 | 發燒車訊\n10\t據傳 Apple 可能為 5G 新機自製天線\n63\t不滿高通設計與權利金，傳言蘋果將自行設計 5G iPhone 天線模組甚至數據機晶片 | TechNews 科技新報\n113\t【卓悅口罩】15/2 五分店售 1,800 盒 L.eader 3 WIRE 三層不織布外科口罩 | Qooah\n64\t一週大事：IBM擴大採用Slack作為內部協同平臺。武漢肺炎衝擊全球供應鏈，Gartner提出企業抗疫對策 | iThome\n164\t內行人才知的正確洗髮4步驟　減少頭皮出油隨時都像剛洗頭 | 淘美麗 | Babyou 姊妹淘\n65\t反其道而行！Google 孵化器 Area 120 推出HTML 5 遊戲平臺 - INSIDE\n165\t打造更好的自己 - Cheers快樂工作人雜誌\n114\t焦點影評：《我們的相愛時光》：稱為生活的謎 － 放映週報 funscreen-No.662\n11\t追蹤武漢肺炎看這裡！科技抗疫、產業衝擊、防疫對策⋯⋯疫情面面觀｜數位時代\n66\tArXiv Weekly Radiostation：本週NLP、CV、ML精選論文30篇（2.9-2.15） | 機器之心\n115\t南山人壽連2年業績掉到第三 董事尹衍樑親自開罰 尹崇堯、許妙靜記大過 | Anue鉅亨 - 臺股新聞\n166\t鍋燒麵「10種料」外帶只要50元！臺中日式便當店必吃爆餡沖繩飯糰 | ETtoday 旅遊雲 | ETtoday旅遊新聞(旅遊)\n12\t瘋狂印鈔票的金錢遊戲，讓你的薪資永遠追不到上漲的物價與房地產 | BuzzOrange\n167\t全桌5折！3家餐廳推2/29壽星優惠　還有蝦子加購1隻1元 | ETtoday 旅遊雲 | ETtoday旅遊新聞(旅遊)\n116\t簡單20分鐘日常伸展瘦身操 ，不用到健身房也能一次雕塑全身　 | 淘美麗 | Babyou 姊妹淘\n13\t彭博社：PS5「至少」要賣 US$470\n117\t湖北暴增1.5萬病例》住海鮮市場附近的武漢高中生：全家靠3件事躲過感染-元氣網-良醫健康網\n168\t50元就能吃飽！高雄無招牌古早味什菜　還吃得到整塊排骨 | ETtoday 旅遊雲 | ETtoday旅遊新聞(旅遊)\n169\t告別油光、痘痘問題！7道洗臉撇步還你好臉色 | manfashion這樣變型男\n118\t〈分析〉一文瞭解半導體「庫存週期」 | Anue鉅亨 - 鉅亨新視界\n14\t【NBA 前球星喜迎兒子變「女兒」】有問題的是閒言閒語的人，不是孩子！韋德用「聽」養跨性別小孩 | BuzzOrange\n170\t食用月見草油調經，肌瘤體質勿亂補 – 媽媽經｜專屬於媽媽的網站\n15\t【耗時 100 小時！菲律賓對臺政策髮夾彎】強人杜特地解除對臺禁令的關鍵，竟是「自己人」？ | BuzzOrange\n119\t天下文化─蔦屋書店創辦人的成功祕訣！跳脫公司立場，能看見更多\n171\t「屁股走路」減重法，瘦小腹兼矯正骨盆 – 媽媽經｜專屬於媽媽的網站\n120\t我真的要跟這種人相處一輩子嗎？ | 淘心話 | Babyou 姊妹淘\n16\tTelegram: Contact @knowledger_info\n121\t小河馬狂「盧」媽媽刷存在感　慘遭忽視秒翻肚：我好可憐！ | 毛孩日常 | Babyou 姊妹淘\n172\t抹茶X珍珠的雙強威力！辻利茶舗X gelato pique café推出期間限定可麗餅，大人系甜點滋味讓人著迷！ - FashionGuide 華人時尚專業評鑑\n17\t【愛情誠可貴，但生命沒它貴】中國情人節「口罩、花椰菜」比鮮花搶手！花農含淚日銷毀百萬朵玫瑰花 | BuzzOrange\n173\t新手主管的一堂課：別讓你的夥伴看起來像新人 - 所大爺 - 酷青酷業 - Cheers快樂工作人\n122\t【沒電池、用尿啟動晶片】MIT 開發智慧尿布，被尿濕會自動通知家長換尿布 | TechOrange\n18\t【原來我們和難民的距離這麼近】受過高等教育的難民，在德國為何只能是「底層勞工」？ | BuzzOrange\n123\t【2/18 直播預告】武漢肺炎全球蔓延，臺灣如何擋到最後一刻？ | TechOrange\n19\t5G競標策略出奇招，亞太電信瞄準一招攏絡消費者｜數位時代\n124\t上天利用這場大火告訴我們如何跟大自然相處——優人神鼓「山上劇場」災後共建計畫，號召 3,000 人一起回到老泉山上｜羣眾觀點\n20\t世界工廠中國開始大復工，但為何臺商更擔心這個數字？｜數位時代\n125\t期交所董事長、前財政部長許虞哲去世 享壽67歲 | Anue鉅亨 - 臺股新聞\n174\t愛面子還是真教育？強迫分享妨礙孩子自主權 – 媽媽經｜專屬於媽媽的網站\n175\t生酮飲食吃膩了？「Carnivore diet」帶你進入肉食主義者的嘉年華！  | manfashion這樣變型男\n21\t聯發科搶賺500億臺物聯網裝置財，IC設計流程、產品賣法大不同｜數位時代\n176\t他正在試探妳！男人說出這幾句話代表他對妳有興趣 | 淘心話 | Babyou 姊妹淘\n126\t〈鉅亨看世界〉奧斯卡贏家「寄生上流」的省思 | Anue鉅亨 - 鉅亨新視界\n177\tLevante真的有伴了！　Maserati第二款休旅確定2021年量產！ | 車壇新訊 | 國際車訊 | 發燒車訊\n22\t純網銀大舉徵才！將來銀行改變招募流程、文科生也吃香！人資主管揭選才最看重這兩種能力｜數位時代\n178\tThe Femin Survey：生而為女人，我們不說抱歉 —— 問卷調查 2020 FEB - The Femin\n127\t買不到口罩？那就改帶面具吧！ | BeautiMode 創意生活風格網\n23\t中國會領導亞洲嗎？ - The News Lens 關鍵評論網\n24\t菲律賓對臺旅遊禁令為何逆轉？部會間的利益衝突、臺商影響力與臺灣的剋制 - The News Lens 關鍵評論網\n128\t只有爸爸能請兩次育嬰假？關於日本育嬰假的種種 | DQ 地球圖輯隊 帶你看透全世界\n25\t3Q陳柏惟：從武漢肺炎旅遊禁令爭議，看實質上互動多於衝突的臺菲關係 - The News Lens 關鍵評論網\n129\t天下文化─小孩害羞不敢交朋友怎麼辦？用最kuso的方式帶領孩子踏出交友第一步！\n26\t傾聽、溝通、尊重，德國父母教孩子「自己做決定」，就算是 3 歲也一樣！ ｜ 書宜在德國 ｜ 換日線 Crossing\n27\t創新拿鐵\n179\t菲律賓急轉彎背後》410位菲人默默推一把 義美高志明：民間可以幫忙很多事 | 信傳媒\n180\t全球第二重災區》新加坡人口560萬 卻爆發5個羣聚感染67人確診武漢肺炎 | 信傳媒\n130\t〈定存理財術〉美元定存人氣不墜 短天期利率喊到6% | Anue鉅亨 - 理財\n181\tMoto RAZR 2019拆解 機內多柔性電線 外媒列史上最難修理手機 | 香港 unwire.hk 玩生活．樂科技\n131\t乃木阪46山下美月，首本寫真連續奪得銷量第一 | mensuno | MenTime - fanpiece\n182\t經血顏色會說話！三茶飲加速經血排乾淨 – 媽媽經｜專屬於媽媽的網站\n132\t不戀愛的人 | 淘心話 | Babyou 姊妹淘\n133\t雷浩斯挑出潛力成長股，存股又賺波段 - 今週刊\n183\t春天易上火！一碗【黑芝麻生薑紅糖粥】打擊「體內邪燥」、脾胃毛\n67\tHinton組力作：ImageNet無監督學習最佳性能一次提升7%，媲美監督學習 | 機器之心\n134\tPeckShield 資安報告：2019 年度區塊鏈十大安全事件總結，損失高達76.79 億美元 | 動區動趨-最具影響力的區塊鏈媒體 (比特幣, 虛擬貨幣)\n184\t什麼星座的爸媽吃軟不吃硬？ – 媽媽經｜專屬於媽媽的網站\n135\t不只帶回deal，更要當個businessman MasterCheers大師線上影音課程 - Cheers雜誌\n185\t2/25開學後，高中以下由教部供給口罩 （緊急備用） – 媽媽經｜專屬於媽媽的網站\n186\t【星座運勢】吃軟不吃硬！吵架最兇狠的星座女 – 媽媽經｜專屬於媽媽的網站\n28\t創新拿鐵\n187\t淡商睽違3年返小巨蛋　王玥媞感動落淚\n136\t汽車線上：大改造Ford Mustang Mach 1成為千匹巨獸\n188\t新冠肺炎在武漢！澳洲分批撤僑，返澳被隔離的真實生活 – 媽媽經｜專屬於媽媽的網站\n137\t三個月減重17公斤 美女教練分享「米飯三日循環法」 | 生活新聞 | 生活 | 聯合新聞網\n189\t「蟲蟲世界」攻佔臺灣燈會　森林機械巨蟲秀酷又帥 | ETtoday 旅遊雲 | ETtoday旅遊新聞(旅遊)\n190\t「2020內湖草莓季」15日正式開跑！20家草莓園資訊懶人包 | ETtoday 旅遊雲 | ETtoday旅遊新聞(旅遊)\n191\t住進百年童話莊園！瑞士格林德瓦唯一5星飯店開箱　走3分鐘就到車站 | ETtoday 旅遊雲 | ETtoday旅遊新聞(旅遊)\n192\t救業績！犇鐵板燒30年來首度賣便當　阿霞飯店桌菜也能外送 | ETtoday 旅遊雲 | ETtoday旅遊新聞(旅遊)\n138\t【防疫必備6折】超能橘SDC銀離子空間抑菌液（3000ml）2瓶｜加贈多功能攜帶型加濕器（可搭配抑菌液使用） - 親子天下Shopping\n193\t2020年皮革是這樣穿的：簡約俐落的剪裁、色彩豐富的初春皮革穿搭術 - Girl Secret\n194\tFacebook 官方推黑暗模式   設定方法教學 | 香港 unwire.hk 玩生活．樂科技\n195\t#時尚歷史課：見證世界大戰的戰壕風衣，Burberry “Trench Coat” 以嶄新風貌傳承英倫精神 - The Femin\n196\t體驗撥接上網的年代！「56k Photo」製作令人懷念的慢速讀取照片 GIF 動圖（iPhone, iPad） – 重灌狂人\n139\t以「帽」取人！！男人不該只有棒球帽！！ | manfashion這樣變型男\n197\t從球員罵到大聯盟主席　Bellinger不信太空人去年沒作弊\n29\t創新拿鐵\n140\t時尚界對抗新冠肺炎！寶格麗捐款加速疫苗研發：「早一週研發完成，就有許多人能得救」 | BeautiMode 創意生活風格網\n198\t華為斥美司法部指控為「政治迫害」  利用國家機器打壓一間私營企業 | 香港 unwire.hk 玩生活．樂科技\n141\t【型男Care】小心！上班族久坐易產生的症狀，看看你中了幾樣！ | manfashion這樣變型男\n199\t荷蘭歌劇L’Orfeo與EGO雕塑藝術結合，引領人們踏入舞者的情感之旅。 – WEHOUSE\n142\t「Za國民防曬霜」清新改版超文青！首次加入3款校色隔離霜，不只防曬係數提升、膚色提亮更精準！\n143\t會員限定專屬下載／親子天下\n144\t菲國禁令急轉彎！旅行社無奈：短短4天退團3000人 - Yahoo奇摩新聞\n30\t創新拿鐵\n145\t記住它的名，然後咱們等著看它表現！Czinger 21C - 試車頻道 TCar\n200\t大王炸裂終結低潮　陽岱鋼敲二壘打\n146\t冰雪奇緣2 - 闔家觀賞 - 電影線上看 -  myVideo | 陪你每一刻\n201\t放Salah打奧運？　利物浦還在考慮\n31\t我從「化粧品科學系」學到了什麼？ ｜ 科系大調查！學長姐現身說法 ｜ 換日線 Crossing\n32\t留學生畢業後不知該走該留？求職顧問：無論人在哪國，你都能用這些方法攻克職場 ｜ 2020 倫敦：後脫歐時代 ｜ 換日線 Crossing\n202\t從臺灣出發的飛機延誤了，竟然不會理賠！出國買「旅遊不便險」，必知5不賠-MY83 保險網-保險-商周財富網\n33\t【圖輯】這一次，由東南亞移工拍攝他們眼裡的臺灣（下） ｜ One-Forty ｜ 換日線 Crossing\n34\t快 35 歲的我，辭掉大公司管理職，獨自到加拿大念英文 ｜ 一起恰恰恰／讀者投書 ｜ 換日線 Crossing\n147\t不讓鈔票成傳染媒介  人民銀行調撥大筆新鈔-觀點新聞-商周財富網\n35\t《愛在黎明破曉時》：25 歲的經典、90 年代的愛情 ｜ 陳怡潔／在倫敦醒來 ｜ 換日線 Crossing\n36\t華為稱美國司法部對其新增指控的行為屬於「政治迫害」\n203\t團隊通力合作　陽明8強賽開胡\n148\t宅經濟商機爆發 電商業Q1不淡 2月以來訂單成長近3倍-鉅亨網-觀點新聞-商周財富網\n204\t公司旅遊是犒賞還是折磨？上班族小劇場，員工、主管想法差很大 - 人緣加值 - 讀書會 - Cheers快樂工作人\n149\t傳蘋果對高通5G天線不滿意 有意自行設計iPhone 12天線-鉅亨網-觀點新聞-商周財富網\n37\t從中國返馬需隔離一週，那從臺灣呢？──恐慌中更加體會 \" Together, Stronger \" ｜ 外派太太／讀者投書 ｜ 換日線 Crossing\n38\t2020奧斯卡《1917》：戰爭裡的度日如年 - The News Lens 關鍵評論網\n39\t愛在肺炎蔓延時，女同志棄回臺留武漢守護女友 - The News Lens 關鍵評論網\n205\t你的習慣值多少錢？一天一杯咖啡、一週一包菸、一年一換新手機…10年多花800萬！-財富未來-個人理財-商周財富網\n40\t2020為蝗害之年？蝗蟲大軍入侵東非甚至飛到印度，近2000萬人恐面臨缺糧 - The News Lens 關鍵評論網\n41\t為何嬰兒這麼難睡過夜？媽媽的生物節律，可能牽動孩子的睡眠行程 - The News Lens 關鍵評論網\n206\t野獸灌籃弄壞籃框　Zion：不是我吧\n250\t宜蘭／自住客撐市　羅東2房小宅千萬有找 | 好房網雜誌 | 好房網News | 關心您住居的房地產新聞\n42\t《妖刀與天劍》書評：背叛作為人性條件，無法簡易區分誰正誰邪 - The News Lens 關鍵評論網\n251\t高薪上看76K！桃園捷運徵才17日開放報名 - Yahoo奇摩理財\n43\t「如果還有一到兩秒時間，飛機不致撞山」：黑鷹失事前通聯紀錄曝光 - The News Lens 關鍵評論網\n44\tThe Apple Archive 蘋果非官方檔案庫，收錄發表會影片、廣告和宣傳圖片\n207\t子瑜辣穿熱褲秀美腿！　原來就靠3招邊追劇邊輕鬆練｜每日健康\n208\t不幸身故，兄弟姊妹竟然可以跟配偶一起分遺產？避免4麻煩，信託人人可規畫-理財宅急便-保險-商周財富網\n45\t病毒與人類的終極賽跑！一年內武漢肺炎的疫苗或特效藥會出現嗎？ - PanSci 泛科學\n252\t【電鍋食譜】自製平民燕窩：冰糖銀耳蓮子湯 – 媽媽經｜專屬於媽媽的網站\n46\t武漢肺炎下的人情冷暖：「恐中」陰影籠罩越南，臺灣人也感受到歧視 - The News Lens 關鍵評論網\n253\t巴菲特 – JC趨勢財經觀點\n'description'\n209\t盤點當年SARS疫情過後，中國有哪些行業真的逆襲了？ | 微信上的中國\n47\tMicrosoft Edge 離線安裝檔下載，沒有網路也能安裝微軟瀏覽器\n48\t小米10系列衝破2.5萬元！雷軍口中「10年集大成之作」，「米粉」買單嗎？｜數位時代\n210\t莊吉生上演逆轉秀　首闖ATP巡迴賽男單4強\n49\t心碎母親在虛擬世界中與女兒「再次相見」！韓國MBC電視臺用VR技術還原7歲女孩「乃妍」｜數位時代\n211\t鋒面、寒流明接力報到！ 吳德榮：北臺灣急凍，越晚越冷 - 今週刊\n212\t【開放列印繪本】武漢肺炎是什麼？帶孩子學習自我保護！ │ 親子天下Baby\n300\t美股漲跌不一，本週股指均錄得漲幅 | MoneyDJ新聞摘錄\n213\t一個勞工的投資案例：把800萬退休金壓在股票，懂得這套方法，遇到股災還倒賺200萬-ETF 美股-世界財經-股市-商周財富網\n301\t樑慕嫻：不讓人說出病毒來源地　真是荒謬絶倫\n214\t噩夢來了？美金融巨鱷：香港銀行業危機將爆 - 工商時報\n302\t投書：肺炎風暴可將臺灣目光從中國轉向東協\n350\t契訶夫《海鷗》劇評：不是去想而是去做，不是去演而是去活 - The News Lens 關鍵評論網\n303\t輸液時，空氣進入血管該怎麼辦？人會死嗎？這些知識你要知道 | 顛覆世界 – 改變的力量\n351\t「我們是開放經濟體，也是國際運輸中心」　新加坡在武漢肺炎疫情中的尷尬與應變-風傳媒\n304\t広がる船內感染「日本の対応はカオス」　下船へ政府転換：朝日新聞デジタル\n305\t香港的金融中心地位會動搖嗎？ - 今週刊\n352\t【圖輯】「世界盡頭」南極創史上最高溫，我們終將失去可愛的企鵝？ - The News Lens 關鍵評論網\n306\t【恆慕國際設計 吳信宏】2017-2019年度獲獎特別報導 - 名人有約 - OPEN Design-室內設計\n353\t先收進心願清單！Airbnb公佈近十年旅客最想去的夢幻房源 | T客邦\n215\t注意！本月起領到的國民年金　這些給付都加碼了 - 今週刊\n354\t中華料理五千年奧義──「黃金炒飯」的祕密被科學家破解了？ - The News Lens 關鍵評論網\n216\t7年前韓國災難恐怖電影《流感》，如今「武漢肺炎」種種情節預言成真？ - Girl Secret\n355\t一個新加坡房東的告白：房客從中國回來了，武漢肺炎的陰影考驗著我 - The News Lens 關鍵評論網\n356\tExcel 除了做報表也可以拿來繪圖！日本 80 歲爺爺堀內辰男用 Excel 作畫，花鳥山水都難不倒他 - 電獺少女\n217\t非洲淨土淪陷！ 埃及首傳武漢肺炎確診案例 - 今週刊\n218\t武漢肺炎粉碎中國夢？　一本改變大國命運的書：中共2049年將稱霸世界 - 今週刊\n307\t肚臍眼的“泥”是怎麼回事 | 顛覆世界 – 改變的力量\n357\t疫情之下，價值456億美元的全球郵輪產業正成為一個被人人喊打的海上國度 | T客邦\n308\t【唐林建築室內設計】2020 Asia Design Prize 廖韋強狂攬三座大獎！ - 名人有約 - OPEN Design-室內設計\n219\t她85歲不依賴子女...竟獨自生活、打高爾夫，帥哥超愛跟她約會！「人會衰弱，但快樂與優雅是自己的堅持」\n358\t非洲首例「武漢肺炎」確診出現在埃及，有病毒但「無症狀」的外籍人士 - The News Lens 關鍵評論網\n359\t享受濃醇香氣又不須擔心咖啡因過量：「低因咖啡」是怎麼做出來的？ - The News Lens 關鍵評論網\n309\t紀念碑等級的臺灣小說：推薦聶華苓《桑青與桃紅》 | Readmoo閱讀最前線\n360\t東京奧運殺手出現？Canon 官方自爆雷，宣佈超強規格新相機 EOS R5 正在「開發中」 | T客邦\n220\t塔羅占卜：看看你未來3個月的感情運勢 — [ isyuan 專欄 ] ‧ A Day Magazine\n361\t不滿柬埔寨人權無改善，歐盟撤回柬埔寨部分零關稅優惠 - The News Lens 關鍵評論網\n310\t科學家發現的新人種“X女性” | 顛覆世界 – 改變的力量\n362\t一週內「反常」破兩次高溫紀錄，南極洲溫度飆到 20.7 度 | T客邦\n311\tAcoustic Solid Solid 111 Metall黑膠唱盤-普洛影音網\n363\t用車主的聲音防止輪框被偷！Ford 研發 3D 列印聲紋鎖螺帽 | T客邦\n364\t【插畫】蒸煮炒炸，口罩該如何「料理」才真香？ - The News Lens 關鍵評論網\n312\tAudio Research Reference 160S，延續經典，等同買二部不同後級-普洛影音網\n221\t巴哈馬央行證實：數位法幣「沙元」下半年上線 - 區塊客\n365\t宏碁電競產品、ConceptD工作站獲五項2020年iF設計獎 | T客邦\n222\t228連假，多項公共運輸優惠鼓勵搭乘！ – 媽媽經｜專屬於媽媽的網站\n313\t華南鼠來發 春節一路發\n366\t中華料理五千年奧義──「黃金炒飯」的祕密被科學家破解了？ - The News Lens 關鍵評論網\n223\t只有100人能搭！「超奢華遊艇」2021年啟航　開進世界最美麗海灣 | ETtoday 旅遊雲 | ETtoday旅遊新聞(旅遊)\n367\t「武漢肺炎」威脅下的日本，防疫到底做得好不好？ - The News Lens 關鍵評論網\n224\t四個重點策略，循序訓練寶寶如廁！ – 媽媽經｜專屬於媽媽的網站\n314\t【讀墨推薦書：選這本正是時候！】買了還沒讀的書有神祕功效!? | Readmoo閱讀最前線\n368\t「武漢肺炎」威脅下的日本，防疫到底做得好不好？ - The News Lens 關鍵評論網\n369\t生化武器？實驗室外洩？新型冠狀病毒的陰謀論何以大行其道 - The News Lens 關鍵評論網\n225\t數位貨幣漸成共識，為何 Libra 落地依然阻力重重？ - 區塊客\n315\t股神給孩子比金錢更寶貴的禮物 - 今週刊\n370\t討人厭親戚MC的由來：生理期爆笑、實用英文說法大集合 - The News Lens 關鍵評論網\n226\t汰換管線　桃園5000戶停水11小時 | 好房網News\n316\t洗手少這步驟比沒洗手還糟！研究證實細菌多84％ |早安健康\n371\t習李體制對「武漢肺炎」的決策，到底出了什麼差錯？ - The News Lens 關鍵評論網\n372\t習李體制對「武漢肺炎」的決策，到底出了什麼差錯？ - The News Lens 關鍵評論網\n317\t脹氣悶痛有3種原因！中醫3方藥解救你的一肚子悶氣 |早安健康\n227\t亂世依舊保持鎮定，甚至更好運的六個星座 | 淘好運 | Babyou 姊妹淘\n373\t從防疫學英文：確診病例、潛伏期、隔離檢疫，英文怎麼說？ - The News Lens 關鍵評論網\n228\t17 世紀海賊王、21 世紀啤酒代言人：鄭成功如何被我們記憶？ | DQ 地球圖輯隊 帶你看透全世界\n374\t從防疫學英文：確診病例、潛伏期、隔離檢疫，英文怎麼說？ - The News Lens 關鍵評論網\n318\t聽力與失智症有關？醫界證實7招預防重聽也等於防失智 |早安健康\n229\t3步肌活！保養這樣做保濕效果更加倍 - uho優活健康網\n230\t內憂外患疫情還攪局！彭博雜誌新封面：中國有4項碰不得 - Yahoo奇摩理財\n375\t【圖輯】「世界盡頭」南極創史上最高溫，我們終將失去可愛的企鵝？ - The News Lens 關鍵評論網\n319\t杜絕飛沫傳染！防治病毒清潔術：靠打掃、控制濕度預防飛沫傳染 |早安健康\n376\t【圖輯】「世界盡頭」南極創史上最高溫，我們終將失去可愛的企鵝？ - The News Lens 關鍵評論網\n231\tJ.D Power公佈北美最可靠品牌排名　韓系Genesis首度榮登冠軍！ | 車壇新訊 | 國際車訊 | 發燒車訊\n232\t以太幣「嚴重超買」恐向下修正？分析師：440 美元阻力位看跌 - 區塊客\n233\t送別王金平　綠委比藍委更有溫情 - 今週刊\n320\t手腳不冰冷卻是「冷底」！隱性體寒自己摸摸肚子就知道 |早安健康\n234\t鏡頭步步進逼兔兔全程定格　接吻前10秒超萌畫面獨家直擊！ | 毛孩日常 | Babyou 姊妹淘\n377\t拒絕陸配子女入境是為了防疫，還是突顯國家認同？ - The News Lens 關鍵評論網\n235\t「流量」也能拿來貸款！臺灣新創用 AI 為企業健檢，將數據資產轉成融資評估指標 | TechOrange\n378\t拒絕陸配子女入境是為了防疫，還是突顯國家認同？ - The News Lens 關鍵評論網\n321\t紐約「Puffy」展覽 帶你闖進愛麗絲的夢遊仙境 – DFUN\n'description'\n379\t自己選擇的國籍自己承擔？其實是「父母選擇，子女承擔」 - The News Lens 關鍵評論網\n236\t【肯星設計】2020 ASIA DESIGN PRIZE 曾濬紳驚豔「四」座展現實力！ - 名人有約 - OPEN Design-室內設計\n380\t自己選擇的國籍自己承擔？其實是「父母選擇，子女承擔」 - The News Lens 關鍵評論網\n381\t《1人健身》：維持肌力訓練的重點在於「管理你的意志力」 - The News Lens 關鍵評論網\n237\t# Weekend in Chiayi：嘉義 3 家文青雞蛋糕，連「雞肉飯」口味都有 ‧ A Day Magazine\n382\t《1人健身》：維持肌力訓練的重點在於「管理你的意志力」 - The News Lens 關鍵評論網\n383\t顧客心海底針，而服務員總是太天真——從事餐飲業必須懂得「三心二意」 - The News Lens 關鍵評論網\n238\t放映頭條：專訪《編劇與剪輯》作者張英珉、高鳴晟 － 放映週報 funscreen-No.662\n384\t顧客心海底針，而服務員總是太天真——從事餐飲業必須懂得「三心二意」 - The News Lens 關鍵評論網\n400\t這樣放閃不惹人厭！八大情侶超美甜蜜合照 - MOOK景點家 - 墨刻出版 華文最大旅遊資訊平臺\n239\t「Instant Measure」打開 iPhone 前鏡頭即可測量與物體之間的距離 – 重灌狂人\n240\t網友想買臺中20年老屋　當地人苦勸「蛋黃區一直變」：沒像臺北保值 - Yahoo奇摩理財\n401\t中共洗腦部總管王滬寧正在反轉瘟疫輿論--上報\n385\t重返印度支那（十）：武漢肺炎防衛戰裡的「臺越同盟」與「中柬軸心」 - The News Lens 關鍵評論網\n402\tF1》賓士新車W11銀石賽道亮相 Lewis Hamilton目標7冠王 - 最新體育新聞，即時比分，賽程和戰績 | FOX體育臺\n386\t學習不放「防疫假」，線上自學產品產品使用量翻倍成長！ | T客邦\n241\t別只關注新冠肺炎！這三種疾病也不容忽視\n'description'\n387\t風評：政策力推綠能，藏了多少政商污垢？-風傳媒\n403\t(開箱分享)Renouf Fitness/Fitek 180PTA 多功能訓練架 - Mobile01\n388\t中國突刪減死亡病例坦言「重複統計」，數據真實性遭疑 | TechNews 科技新報\nArticle `download()` failed with 404 Client Error: Not Found for url: https://www.mobile01.com/topicdetail.php?f=697&t=6024107#utm_source=fb&utm_campaign=fbpushp&utm_term=sport&utm_content=6024107 on URL https://www.mobile01.com/topicdetail.php?f=697&t=6024107#utm_source=fb&utm_campaign=fbpushp&utm_term=sport&utm_content=6024107\n389\t美國公立學校有錢也不一定能進！真實經歷告訴你，資本主義的教育如何用錢堆出來 | BuzzOrange\n450\t壓力大還是憂鬱症？　醫師來解答...6招幫你遠離壓力 - Yahoo奇摩理財\n390\t【內幕】藍黨魁補選登記後激增2萬黨員　「老」黨員佔全體近7成\n391\t口罩實名制購買新增據點！303家衛生所也能買到 - MOOK景點家 - 墨刻出版 華文最大旅遊資訊平臺\n68\t一天1300 Star量，GitHub上新官方命令行工具 | 機器之心\n392\t〈不專業開箱 〉浪琴 L4.821.4.11.6 - Mobile01\nArticle `download()` failed with 404 Client Error: Not Found for url: https://www.mobile01.com/topicdetail.php?f=712&t=6023967#utm_source=fb&utm_campaign=fbpushp&utm_term=fashion&utm_content=6023967 on URL https://www.mobile01.com/topicdetail.php?f=712&t=6023967#utm_source=fb&utm_campaign=fbpushp&utm_term=fashion&utm_content=6023967\n451\t智商≠情商！戀愛中情緒最不受控的靈數TOP 3 | 淘好運 | Babyou 姊妹淘\n452\t曼城挨罰歐冠2年禁賽　傳Guardiola憂球員出走\n453\t一眉哥爆料：詹姆斯告訴我他破解了29座球館wifi密碼，只有馬刺的沒破解！ - Haters-黑特籃球NBA新聞影音圖片分享社區\n454\t放任不管恐變肝癌　常食兩款「粥療」有效消滅肝臟脂肪｜每日健康\n455\t泰國萌喵Leo「怒瞪屎臉」在臺爆紅，被網封為「最可愛臭臉貓」！ | CatCity 貓奴日常\n456\t日本環球影城Universal Cool Japan新攻略！2020版《進擊的巨人》及《柯南》內部畫面首公開！｜PopDaily 發現你的生活靈感\n457\t【武漢肺炎】日本兩日內8確診1死　70歲計程車司機恐成「超級傳播者」　--上報\n458\t想要更無負擔的生活！臺北五家質感蔬食餐廳盤點｜女人迷 Womany\n459\t【地球 24小時】02/13  班克斯的情人節禮物 | DQ 地球圖輯隊 帶你看透全世界\n460\t突被告知罹癌　身心如何消除不安？ - uho優活健康網\n461\t日本 KDDI 、 NEC 與建設公司大林組成功使用 5G 技術進行道路工程 (151708) - 癮科技 Cool3c\n462\t武漢肺炎帶動宅經濟，電商徵才月薪上看 10 萬 | TechOrange\n463\t新娘不是她！ 畢書盡8年舊愛：別再傷害我「你沒守承諾」 | 星鮮事 | Babyou 姊妹淘\n464\t防疫與人道的兩難：如果防疫破功臺灣毀了 臺商才真的回不了家 | 信傳媒\n465\t「張綱維條款」擬放寬 金融業委託書徵求資格引發爭議 | 信傳媒\n466\t案發後首度現身！「卡神」楊蕙如否認辱公署 燙手山芋在後頭... | 信傳媒\n467\t今年首例》40歲男患百日咳！咳超過2週並有「3症狀」小心染病 | 信傳媒\n468\t《女鬼橋》：2020 校園恐佈之作，改編自臺中東海大學相傳多年的靈異故事 ‧ A Day Magazine\n469\t比特幣獎勵減半礦工恐告急？新研究：挖礦成本將翻倍至破萬美元 - 區塊客\n470\tZion效應再來襲！亮相全明星被記者團團圍住，前美國總統都忍不住稱讚他！ - Haters-黑特籃球NBA新聞影音圖片分享社區\n471\t用車主的聲音防止輪框被偷！Ford 研發 3D 列印聲紋鎖螺帽 | T客邦\n472\t川普減稅2.0異想天開？鼓勵全民炒股 - Yahoo奇摩理財\n473\t總是賺多少、花多少？給月光族：想改善生活，就別再花你的薪水了！-小資族學理財-存款-商周財富網\n474\t【地球 24小時】02/12 世界最大3D列印屋 | DQ 地球圖輯隊\n475\t日式省錢法：想存錢，要先學會用心花錢｜天下雜誌\n476\t新冠肺炎當前，洗手比戴口罩重要！正確洗手7步驟 – 媽媽經｜專屬於媽媽的網站\n477\t【你不是失敗，你是值得更好的】人氣作家角子：別讓那個不能給妳幸福的人，影響妳對幸福的看法 | VidaOrange\n478\t專訪《想見你》莫俊傑，新銳演員施柏宇被霸凌經驗，成為演戲的養份 – 媽媽經｜專屬於媽媽的網站\n479\t【影片】輕鬆寫意！LaVine今日訓練罰球線起跳360度旋轉灌籃！ - Haters-黑特籃球NBA新聞影音圖片分享社區\n480\t疫情衝擊 ICAO：全球航空業Q1營收減少40-50億美元 | MoneyDJ新聞摘錄\n481\t【常被別人點燃負面情緒？】諮商心理師邱淳孝：情緒痛點往往與「早年成長經驗」有關 | VidaOrange\n482\t網傳木耳Q彈成分，富含膠原蛋白是真的嗎？ – 媽媽經｜專屬於媽媽的網站\n483\t德川家康的死因是吃了鯛魚天婦羅？其實那時根本還沒有天婦羅--上報\n484\t寶貝情人節快樂！瓦妮莎分享與Kobe親吻照，悲傷告白讓人心碎：親吻天堂的你和女兒！ - Haters-黑特籃球NBA新聞影音圖片分享社區\n485\t闢謠！低脂鮮乳有澱粉？一次破解低脂鮮乳4大迷思 – 媽媽經｜專屬於媽媽的網站\n486\t「皮蛇」長一圈就會死掉？如何預防並提升免疫力！ – 媽媽經｜專屬於媽媽的網站\n487\t海膽鋪滿飯上！精選高雄最霸氣6家丼飯　海盜船上桌根本吃不完 | ETtoday 旅遊雲 | ETtoday旅遊新聞(旅遊)\n488\t新冠肺炎病毒疫情擴張！「弭平恐懼」精神健康照顧4項建議 – 媽媽經｜專屬於媽媽的網站\n489\t飯店業第一槍！上次停業是因為颱風，溫泉會館璞石麗緻休館抗疫情｜商周\n490\t[實測影片] 讓口罩兩側更服貼，多一個動作就OK - BabyHome親子討論區\n491\t日本電訊商提供 2,000 部 iPhone 供鑽石公主號被隔離旅客和船員使用 | 香港 unwire.hk 玩生活．樂科技\n492\t乘著色彩上班趣！用「光舞」打造輕盈時尚的辦公空間\n493\t想進全明星？莫蘭特疑似回應Lillard指定Booker增補全明星：你們睡著了？ - Haters-黑特籃球NBA新聞影音圖片分享社區\n494\t義大利麵遇上客家粄條 ｜ 魚夫 ／ 魚腸劍譜 ｜ 獨立評論\n495\t「我不勇敢，誰幫你堅強！」新冠肺炎第十例痊癒訴心聲，感謝臺灣醫護 – 媽媽經｜專屬於媽媽的網站\n496\t民主黨總統初選 激進桑德斯竄出！溫和派憂 改挺彭博 | MoneyDJ新聞摘錄\n497\t【運動小姐】改善洋梨型身材：增加肌肉才能有效減脂｜女人迷 Womany\n498\t對抗新冠肺炎除戴口罩、勤洗手之外，外加提升免疫力4大穴位 – 媽媽經｜專屬於媽媽的網站\n499\t不爽太空人違規　道奇Stripling：可能砸人\n69\t不用計算器怎麼開平方？徒手也可以 | 機器之心\n70\t和失智長輩一起去旅行！六福旅遊的「喘息服務」，如何突破框架、打造新的生意？ | 經理人\n71\t嫌高通會讓 iPhone 太厚，蘋果可能會自行設計 5G 天線 - INSIDE\n72\tMIT開發能修改維基百科文章錯誤的自動系統 | iThome\n73\t唐鳳：多國對臺灣開放政府做口罩網路平臺感興趣！ - INSIDE\n74\tSocial Science One及臉書終於釋出內含3,800萬個網址的資料集 | iThome\n75\t臉書與Twitter拒絕將俄羅斯用戶資料移至境內，挨罰 | iThome\n76\tGoogle移除逾500個惡意的Chrome擴充程式 | iThome\n77\t美國五州使用的投票程式Voatz被揪出含有可竄改的漏洞 | iThome\n78\t疫情帶動宅經濟！電商徵才月薪上看 10 萬元 - INSIDE\n79\t到職一年還是老出錯！講不聽、聽不懂的員工，該忍嗎？能怎麼教？ | 經理人\n80\tGoogle用AI自動重新剪輯影片 | iThome\n81\t突刪減死亡病例！中國坦言重複統計 數據真實性遭疑 - INSIDE\n82\t川普減稅 2.0 異想天開？鼓勵全民炒股 - INSIDE\n83\tLG 與 Samsung 都在開發便攜手機屏幕配件 | Qooah\n84\tiFixit 拆解 Motorola RAZR 2019，維修難度極高 | Qooah\n85\tOPPO 智能手錶渲染圖，可能就是這個樣 | Qooah\n86\tPS5 成本超高，也許今次賣價並不便宜 | Qooah\n87\t明寸小米？realme 宣佈 X50 Pro 全系送 GaN 65W 超級快充 | Qooah\n88\t重文輕武、重武輕文 - 專案與業務該重視誰的爭議 - 專案管理生活思維\n89\t慢下來，幸福就不會擦肩而過 | 知 識 家\n90\t5件人們總是太晚領悟的人生課題 | 知 識 家\n91\t常見的6種簡報錯誤，你也犯了嗎？ | 知 識 家\n92\t從高成就的領導人身上，你該看見的五件事 | 知 識 家\n93\t踏出舒適圈，做！就對了！ | 知 識 家\n94\t成功第一步，先讓別人聽得懂你的話 | 知 識 家\n95\t成功的九種時間管理方法 | 知 識 家\n96\t那些對電子產品和 Wi-Fi 過敏的人，整個人生被「隔離」 | TechNews 科技新報\n97\t不會把目標翻譯成任務，要你何用──任務分解 | 知 識 家\n98\t游泳池養蚊、宴會廳閒置…為何建案總是蓋一堆豪華又沒用的公設？專家揭建商背後心機-風傳媒\n99\t驗1滴血15分鐘內確診！中國研製武漢肺炎病毒試劑盒，憑肉眼就能辨識結果-風傳媒\n"
    }
   ],
   "source": [
    "items = pandas.DataFrame()\n",
    "with Pool() as pool:\n",
    "\n",
    "    results = [pool.apply_async(get_articles, (start_news_id, length)) for start_news_id in range(0, total_length, length)]\n",
    "    \n",
    "    for result in results:\n",
    "        items = items.append(result.get())\n",
    "\n",
    "\n"
   ]
  },
  {
   "cell_type": "code",
   "execution_count": 5,
   "metadata": {},
   "outputs": [
    {
     "data": {
      "text/html": "<div>\n<style scoped>\n    .dataframe tbody tr th:only-of-type {\n        vertical-align: middle;\n    }\n\n    .dataframe tbody tr th {\n        vertical-align: top;\n    }\n\n    .dataframe thead th {\n        text-align: right;\n    }\n</style>\n<table border=\"1\" class=\"dataframe\">\n  <thead>\n    <tr style=\"text-align: right;\">\n      <th></th>\n      <th>title</th>\n      <th>description</th>\n      <th>linkurl</th>\n      <th>keywordtrend</th>\n      <th>uidactscore</th>\n      <th>socialactscore</th>\n      <th>activescore</th>\n      <th>groups</th>\n    </tr>\n  </thead>\n  <tbody>\n    <tr>\n      <th>0</th>\n      <td>疫情帶動宅經濟，電商徵才月薪上看 10 萬元 | TechNews 科技新報</td>\n      <td>武漢肺炎疫情升溫，百貨業績下滑，以往熱鬧的臺北市信義區連週末都人潮稀少，反觀網購商機逆勢爆發...</td>\n      <td>https://technews.tw/2020/02/15/wuhan-pneumonia...</td>\n      <td>0</td>\n      <td>85</td>\n      <td>0</td>\n      <td>29988</td>\n      <td>['3CExpert_tw', 'business_tw', 'tech_tw']</td>\n    </tr>\n    <tr>\n      <th>1</th>\n      <td>臺積電先進製程產能太搶手，華為受肺炎疫情衝擊也不敢砍單 | TechNews 科技新報</td>\n      <td>在中國武漢肺炎疫情的衝擊下，之前有外電引用分析機構的研究數據顯示，中國手機市場的出貨量將會因...</td>\n      <td>https://technews.tw/2020/02/15/tsmc-vs-huawei/...</td>\n      <td>0</td>\n      <td>85</td>\n      <td>0</td>\n      <td>29988</td>\n      <td>['3CExpert_tw', 'tech_tw']</td>\n    </tr>\n    <tr>\n      <th>2</th>\n      <td>退出主場！三星不在南韓販售 Exynos 處理器 S20 手機 | TechNews 科技新報</td>\n      <td>南韓手機大廠三星電子（Samsung Electronics）最新旗艦機 Galaxy S2...</td>\n      <td>https://technews.tw/2020/02/14/samsung-do-not-...</td>\n      <td>0</td>\n      <td>85</td>\n      <td>0</td>\n      <td>29988</td>\n      <td>['3CExpert_tw', 'tech_tw']</td>\n    </tr>\n    <tr>\n      <th>3</th>\n      <td>駭客、工程師鍵盤救國！實名系統 72 小時上線幕後 | TechNews 科技新報</td>\n      <td>臺灣，正上演一場獨步全球的實驗。獨特的健保系統，加上完善的通訊基礎，官民充分合作，以及高技術...</td>\n      <td>https://technews.tw/2020/02/15/taiwan-mask-rea...</td>\n      <td>0</td>\n      <td>85</td>\n      <td>0</td>\n      <td>29988</td>\n      <td>['3CExpert_tw', 'tech_tw']</td>\n    </tr>\n    <tr>\n      <th>4</th>\n      <td>臺商第一手觀察：武漢疫情引爆中國 5 大經濟隱憂 | TechNews 科技新報</td>\n      <td>中國遭遇美國貿易制裁，現今又發生湖北武漢肺炎事件，將使中國出現以下重大經濟問題。筆者長期關注...</td>\n      <td>https://technews.tw/2020/02/15/wuhan-pneumonia...</td>\n      <td>0</td>\n      <td>85</td>\n      <td>0</td>\n      <td>29988</td>\n      <td>['3CExpert_tw', 'tech_tw']</td>\n    </tr>\n    <tr>\n      <th>...</th>\n      <td>...</td>\n      <td>...</td>\n      <td>...</td>\n      <td>...</td>\n      <td>...</td>\n      <td>...</td>\n      <td>...</td>\n      <td>...</td>\n    </tr>\n    <tr>\n      <th>495</th>\n      <td>「我不勇敢，誰幫你堅強！」新冠肺炎第十例痊癒訴心聲，感謝臺灣醫護 – 媽媽經｜專屬於媽媽的網站</td>\n      <td>如果要用一句話，來形容即將出院的心情，那我會這麼說：「我不勇敢誰幫你堅強！」中央流行疫情指揮...</td>\n      <td>https://mamaclub.com/learn/%e3%80%8c%e6%88%91%...</td>\n      <td>0</td>\n      <td>10</td>\n      <td>0</td>\n      <td>2520</td>\n      <td>['Babyhome_tw', 'life_tw']</td>\n    </tr>\n    <tr>\n      <th>496</th>\n      <td>民主黨總統初選 激進桑德斯竄出！溫和派憂 改挺彭博 | MoneyDJ新聞摘錄</td>\n      <td>許多溫和派的民主黨人對此憂心不已，轉向支持前紐約市長彭博</td>\n      <td>https://blog.moneydj.com/news/2020/02/14/%e6%b...</td>\n      <td>0</td>\n      <td>10</td>\n      <td>0</td>\n      <td>2520</td>\n      <td>None</td>\n    </tr>\n    <tr>\n      <th>497</th>\n      <td>【運動小姐】改善洋梨型身材：增加肌肉才能有效減脂｜女人迷 Womany</td>\n      <td>其實皮下脂肪與內臟脂肪相較之下，內臟脂肪比較容易消除。不論是皮下脂肪或內臟脂肪，都是身體為了...</td>\n      <td>https://womany.net/read/article/23033</td>\n      <td>0</td>\n      <td>10</td>\n      <td>0</td>\n      <td>2520</td>\n      <td>['Fitness_tw', 'Sports_tw', 'life_tw']</td>\n    </tr>\n    <tr>\n      <th>498</th>\n      <td>對抗新冠肺炎除戴口罩、勤洗手之外，外加提升免疫力4大穴位 – 媽媽經｜專屬於媽媽的網站</td>\n      <td>要抵抗肺炎除了戴口罩、勤洗手以外，我們也不能忽視照顧好自身的免疫力，今天就先來和大家分享能夠...</td>\n      <td>https://mamaclub.com/learn/%e5%b0%8d%e6%8a%97%...</td>\n      <td>0</td>\n      <td>10</td>\n      <td>0</td>\n      <td>2520</td>\n      <td>['Babyhome_tw', 'life_tw']</td>\n    </tr>\n    <tr>\n      <th>499</th>\n      <td>不爽太空人違規　道奇Stripling：可能砸人</td>\n      <td>多名道奇球員表達了對太空人違規的憤怒，包括投手Ross Stripling表示會想對太空人打...</td>\n      <td>http://www.tsna.com.tw/tw/news/show.php?type=1...</td>\n      <td>0</td>\n      <td>10</td>\n      <td>0</td>\n      <td>2520</td>\n      <td>['Sports_tw']</td>\n    </tr>\n  </tbody>\n</table>\n<p>250 rows × 8 columns</p>\n</div>",
      "text/plain": "                                               title  \\\n0             疫情帶動宅經濟，電商徵才月薪上看 10 萬元 | TechNews 科技新報   \n1        臺積電先進製程產能太搶手，華為受肺炎疫情衝擊也不敢砍單 | TechNews 科技新報   \n2    退出主場！三星不在南韓販售 Exynos 處理器 S20 手機 | TechNews 科技新報   \n3          駭客、工程師鍵盤救國！實名系統 72 小時上線幕後 | TechNews 科技新報   \n4           臺商第一手觀察：武漢疫情引爆中國 5 大經濟隱憂 | TechNews 科技新報   \n..                                               ...   \n495  「我不勇敢，誰幫你堅強！」新冠肺炎第十例痊癒訴心聲，感謝臺灣醫護 – 媽媽經｜專屬於媽媽的網站   \n496          民主黨總統初選 激進桑德斯竄出！溫和派憂 改挺彭博 | MoneyDJ新聞摘錄   \n497              【運動小姐】改善洋梨型身材：增加肌肉才能有效減脂｜女人迷 Womany   \n498      對抗新冠肺炎除戴口罩、勤洗手之外，外加提升免疫力4大穴位 – 媽媽經｜專屬於媽媽的網站   \n499                         不爽太空人違規　道奇Stripling：可能砸人   \n\n                                           description  \\\n0    武漢肺炎疫情升溫，百貨業績下滑，以往熱鬧的臺北市信義區連週末都人潮稀少，反觀網購商機逆勢爆發...   \n1    在中國武漢肺炎疫情的衝擊下，之前有外電引用分析機構的研究數據顯示，中國手機市場的出貨量將會因...   \n2    南韓手機大廠三星電子（Samsung Electronics）最新旗艦機 Galaxy S2...   \n3    臺灣，正上演一場獨步全球的實驗。獨特的健保系統，加上完善的通訊基礎，官民充分合作，以及高技術...   \n4    中國遭遇美國貿易制裁，現今又發生湖北武漢肺炎事件，將使中國出現以下重大經濟問題。筆者長期關注...   \n..                                                 ...   \n495  如果要用一句話，來形容即將出院的心情，那我會這麼說：「我不勇敢誰幫你堅強！」中央流行疫情指揮...   \n496                       許多溫和派的民主黨人對此憂心不已，轉向支持前紐約市長彭博   \n497  其實皮下脂肪與內臟脂肪相較之下，內臟脂肪比較容易消除。不論是皮下脂肪或內臟脂肪，都是身體為了...   \n498  要抵抗肺炎除了戴口罩、勤洗手以外，我們也不能忽視照顧好自身的免疫力，今天就先來和大家分享能夠...   \n499  多名道奇球員表達了對太空人違規的憤怒，包括投手Ross Stripling表示會想對太空人打...   \n\n                                               linkurl  keywordtrend  \\\n0    https://technews.tw/2020/02/15/wuhan-pneumonia...             0   \n1    https://technews.tw/2020/02/15/tsmc-vs-huawei/...             0   \n2    https://technews.tw/2020/02/14/samsung-do-not-...             0   \n3    https://technews.tw/2020/02/15/taiwan-mask-rea...             0   \n4    https://technews.tw/2020/02/15/wuhan-pneumonia...             0   \n..                                                 ...           ...   \n495  https://mamaclub.com/learn/%e3%80%8c%e6%88%91%...             0   \n496  https://blog.moneydj.com/news/2020/02/14/%e6%b...             0   \n497              https://womany.net/read/article/23033             0   \n498  https://mamaclub.com/learn/%e5%b0%8d%e6%8a%97%...             0   \n499  http://www.tsna.com.tw/tw/news/show.php?type=1...             0   \n\n     uidactscore  socialactscore  activescore  \\\n0             85               0        29988   \n1             85               0        29988   \n2             85               0        29988   \n3             85               0        29988   \n4             85               0        29988   \n..           ...             ...          ...   \n495           10               0         2520   \n496           10               0         2520   \n497           10               0         2520   \n498           10               0         2520   \n499           10               0         2520   \n\n                                        groups  \n0    ['3CExpert_tw', 'business_tw', 'tech_tw']  \n1                   ['3CExpert_tw', 'tech_tw']  \n2                   ['3CExpert_tw', 'tech_tw']  \n3                   ['3CExpert_tw', 'tech_tw']  \n4                   ['3CExpert_tw', 'tech_tw']  \n..                                         ...  \n495                 ['Babyhome_tw', 'life_tw']  \n496                                       None  \n497     ['Fitness_tw', 'Sports_tw', 'life_tw']  \n498                 ['Babyhome_tw', 'life_tw']  \n499                              ['Sports_tw']  \n\n[250 rows x 8 columns]"
     },
     "execution_count": 5,
     "metadata": {},
     "output_type": "execute_result"
    }
   ],
   "source": [
    "items.to_csv('topnews.csv')\n",
    "items"
   ]
  },
  {
   "cell_type": "code",
   "execution_count": 6,
   "metadata": {},
   "outputs": [
    {
     "name": "stdout",
     "output_type": "stream",
     "text": "商業 62\n生活 58\n科技 54\n親子家庭 42\n職場白領 38\n享樂女性 37\n3C達人 22\n國際財經 21\n運動 12\n城市食旅 12\n文青聚落 11\n健身瘦身 10\n御宅學園 9\n設計 3\n"
    }
   ],
   "source": [
    "url = 'https://www.cupoy.com/MixNewsAction.do?op=getBucketGroups&nationid=TW&len=50'\n",
    "response = requests.get(url)\n",
    "\n",
    "group_map = {}\n",
    "for group in response.json():\n",
    "    group_map[group['groupid']] = group['name']\n",
    "\n",
    "group_items = {}\n",
    "for i in range(len(items)):\n",
    "    item_groups = items.iloc[i]['groups']\n",
    "    if item_groups:\n",
    "        item_groups = item_groups.replace('[', '').replace(']', '').replace('\\'', '').split(', ')\n",
    "        for group in item_groups:\n",
    "            group = group_map[group]\n",
    "            if group not in group_items:\n",
    "                group_items[group] = [i]\n",
    "            else:\n",
    "                group_items[group].append(i)\n",
    "\n",
    "for groupid in sorted(group_items, key=lambda k: len(group_items[k]), reverse=True):\n",
    "    print(groupid, len(group_items[groupid]))\n"
   ]
  },
  {
   "cell_type": "code",
   "execution_count": 7,
   "metadata": {},
   "outputs": [
    {
     "name": "stdout",
     "output_type": "stream",
     "text": "Trend News: \nFrom keywordtrend {'title': '疫情帶動宅經濟，電商徵才月薪上看 10 萬元 | TechNews 科技新報', 'keywordtrend': 0, 'uidactscore': 85, 'socialactscore': 0, 'activescore': 29988}\nFrom uidactscore {'title': '疫情帶動宅經濟，電商徵才月薪上看 10 萬元 | TechNews 科技新報', 'keywordtrend': 0, 'uidactscore': 85, 'socialactscore': 0, 'activescore': 29988}\nFrom socialactscore {'title': '重文輕武、重武輕文 - 專案與業務該重視誰的爭議 - 專案管理生活思維', 'keywordtrend': 0, 'uidactscore': 60, 'socialactscore': 394, 'activescore': 5925}\nFrom activescore {'title': '疫情帶動宅經濟，電商徵才月薪上看 10 萬元 | TechNews 科技新報', 'keywordtrend': 0, 'uidactscore': 85, 'socialactscore': 0, 'activescore': 29988}\n"
    }
   ],
   "source": [
    "\n",
    "print('Trend News: ')\n",
    "print('From keywordtrend', items.loc[items['keywordtrend'].idxmax(), ['title', 'keywordtrend', 'uidactscore', 'socialactscore', 'activescore']].to_dict())\n",
    "print('From uidactscore', items.loc[items['uidactscore'].idxmax(), ['title', 'keywordtrend', 'uidactscore', 'socialactscore', 'activescore']].to_dict())\n",
    "print('From socialactscore', items.loc[items['socialactscore'].idxmax(), ['title', 'keywordtrend', 'uidactscore', 'socialactscore', 'activescore']].to_dict())\n",
    "print('From activescore', items.loc[items['activescore'].idxmax(), ['title', 'keywordtrend', 'uidactscore', 'socialactscore', 'activescore']].to_dict())\n"
   ]
  },
  {
   "cell_type": "code",
   "execution_count": null,
   "metadata": {},
   "outputs": [],
   "source": []
  }
 ]
}