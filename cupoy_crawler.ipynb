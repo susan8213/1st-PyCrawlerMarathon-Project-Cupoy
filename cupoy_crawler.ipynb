{
 "nbformat": 4,
 "nbformat_minor": 2,
 "metadata": {
  "language_info": {
   "name": "python",
   "codemirror_mode": {
    "name": "ipython",
    "version": 3
   },
   "version": "3.6.4-final"
  },
  "orig_nbformat": 2,
  "file_extension": ".py",
  "mimetype": "text/x-python",
  "name": "python",
  "npconvert_exporter": "python",
  "pygments_lexer": "ipython3",
  "version": 3,
  "kernelspec": {
   "name": "python36464bitvenvpycrawlercupoyvenv705729c413f14ecdbcade731836ff87a",
   "display_name": "Python 3.6.4 64-bit ('venv-pycrawler-cupoy': venv)"
  }
 },
 "cells": [
  {
   "cell_type": "code",
   "execution_count": 1,
   "metadata": {},
   "outputs": [
    {
     "name": "stdout",
     "output_type": "stream",
     "text": "The history saving thread hit an unexpected error (DatabaseError('database disk image is malformed',)).History will not be written to the database.\n"
    }
   ],
   "source": [
    "import pandas\n",
    "import requests\n",
    "from multiprocessing import Process, Queue, Pool\n",
    "\n",
    "\n",
    "length = 50\n",
    "total_length = 500\n",
    "\n",
    "group_items = {}\n",
    "\n",
    "url = 'https://www.cupoy.com/MixNewsMongoAction.do'"
   ]
  },
  {
   "cell_type": "code",
   "execution_count": 2,
   "metadata": {},
   "outputs": [],
   "source": [
    "def get_articles(start_news_id, length):\n",
    "    \n",
    "    items = pandas.DataFrame()\n",
    "    payload = {'op': 'getTopMixNews', 'nationid': 'TW', 'startNewsID': start_news_id, 'len': length}\n",
    "\n",
    "    try:\n",
    "        count = 0\n",
    "        response = requests.get(url, params=payload).json()\n",
    "        for item in response['items']:\n",
    "            article_id = start_news_id + count\n",
    "            item_df = pandas.DataFrame({\n",
    "                'title': item.get('title'),\n",
    "                'description': item.get('description'),\n",
    "                'linkurl': item.get('linkurl'),\n",
    "                'keywordtrend': item['metrics']['keywordtrend'],\n",
    "                'uidactscore': item['metrics']['uidactscore'],\n",
    "                'socialactscore': item['metrics']['socialactscore'],\n",
    "                'activescore': item['metrics']['activescore'],\n",
    "                'groups': (str(item['bucketgrpids']) if 'bucketgrpids' in item else None)\n",
    "            }, index=[article_id])\n",
    "\n",
    "            print(article_id, item['title'], sep='\\t')\n",
    "            items = items.append(item_df)\n",
    "            count +=1\n",
    "        return items\n",
    "    except Exception as err:\n",
    "        print(err)\n",
    "        return\n",
    "\n"
   ]
  },
  {
   "cell_type": "code",
   "execution_count": 3,
   "metadata": {},
   "outputs": [
    {
     "name": "stdout",
     "output_type": "stream",
     "text": " little d\n146\t新機難產...Android 之父 Andy Rubin 的手機新創 Essential 宣佈倒閉 - INSIDE\n150\t兩岸喬不攏「臺胞撤離包機」　北京「要面子」害慘湖北臺灣人\n38\t'Parasite' Makes Another Leap for South Korea's Cultural Economy  - The News Lens International Edition\n147\t每日一句學管理 | 經理人\n151\t「鑽石公主號」乘客可以下船了！羣聚感染太嚴重，日本政府終於同意「老病者明天上岸」-風傳媒\n39\t生醫發展第一線的無名英雄— 實驗小鼠的使用與倫理 - 科學月刊Science Monthly\n152\t湖北一把手被拔官！武漢肺炎撼動中共人事：省委書記蔣超良去職，上海市委書記應勇調任救火-風傳媒\n148\t【ClubLike 口罩】2月14 發售 1,000 盒藍鷹牌兒童口罩, 教你先攞 HK$50 優惠碼 | Qooah\n153\t疫情大爆發？中國更改確診標準，武漢肺炎患者一口氣新增1萬5千人、252死-風傳媒\n40\t因應「武漢肺炎」國際活動相繼取消或延期，東京奧運呢？ - The News Lens 關鍵評論網\n149\t京都住宿新選擇！恐怖房、求神問卜房，超狂的概念旅館「不思議な宿」 | MATCHA - 日本線上旅遊觀光雜誌\n41\t微軟新創加速器第二期招募\n154\tSlack最大客戶IBM，敲定35萬名員工全都採用Slack溝通協作｜數位時代\n155\t特斯拉要自產電池？低調收購兩家技術商後，傳正打造首條自家生產線｜數位時代\n42\t哪裡是人類的起源？ 眾說紛紜的單地、多地論 - 科學月刊Science Monthly\n156\t電子書閱讀器mooInk Pro 13吋版本現身！限量千臺集資，若未達目標將不生產｜數位時代\n43\t新訂一年方案：《科學月刊》一年12期 - 科學月刊Science Monthly\n157\tM.2 NVMe SSD 隨意熱插拔，ICY DOCK 推出 ToughArmor MB720M2K-B 4 槽 5.25 吋抽取盒 | T客邦\n44\t不滿柬埔寨人權無改善，歐盟撤回柬埔寨部分零關稅優惠 - The News Lens 關鍵評論網\n158\t在丹波篠山的3天2夜之旅ーー鄰近大阪・京都的城下町 | 離大阪最近的小京都丹波篠山 | MATCHA - 日本線上旅遊觀光雜誌\n45\t到底為什麼要戴口罩？口罩真的可以遮住飛沫嗎？實驗噴噴看就知道啦 - PanSci 泛科學\n159\t．人工智慧在醫療領域的下一個前導 - 3S Market「全球智慧科技應用」市場資訊網\n50\t菲律賓拒絕解除對臺旅行禁令，總統杜特蒂：首要關切菲國人民安全 - The News Lens 關鍵評論網\n46\t【插畫】情人節就是要把你的前任拿去餵動物 - The News Lens 關鍵評論網\n160\t【2020情人節】Jo Malone推出日本限定「櫻花香小粉瓶」！盤點少女心爆棚櫻花洗、沐浴產品～讓男友只想一直靠近你♡ | GirlStyle 臺灣女生日常\n51\t《寄生上流》中不只是氣味的窮酸味：嗅覺與情緒真有連結？ - PanSci 泛科學\n47\t口罩「禁止出口」延長到4月底，60條新產線3月上線、拚每日生產1000萬片 - The News Lens 關鍵評論網\n161\t中國模式的後遺症正由整個世界承受\n52\t擅挖地洞的袋熊，澳洲大火中小動物的救命英雄？ - PanSci 泛科學\n48\t資本主義本來就是「買低賣高」，為何要禁止黃牛票？ - The News Lens 關鍵評論網\n162\t現省 300 美元！NordVPN 生日特價只要三折！安全上網 / 影片跨區！ – 3C 達人廖阿輝\n49\t被韓國迎頭趕上，為什麼日本電影拿不到奧斯卡？ - The News Lens 關鍵評論網\n53\t新增「臨牀診斷」標準，湖北「武漢肺炎」確診病例一日增加1.3萬 - The News Lens 關鍵評論網\n163\t荒謬的「陳時中現象」\n54\t「國籍沒選臺灣自己承擔」？開放陸配子女來臺引發的「國籍」論戰 - The News Lens 關鍵評論網\n164\t江雅綺：折扣式的振興使用券能產生更大的效果\n55\t思考上別陷入兩種極端，武漢臺商包機不必淪為「電車困境」 - The News Lens 關鍵評論網\n165\tBerrycast - 免費易用的電腦畫面錄製軟體，錄製完成直接上傳方便分享 - 就是教不落\n56\t華航宣佈主管減薪10％！因武漢肺炎疫情影響，鼓勵員工主動休假、共體時艱｜數位時代\n166\t投書：軍機繞臺的中共行員在想什麼\n57\t兩大廠青睞！ITM國際信任機器拿下高通創新競賽亞軍後，再獲聯發科Pre-A輪投資｜數位時代\n167\t不配合中共暴力維穩抗疫　就等著被清算\n58\t如果殺人有罪，避孕是不是也有罪？——《機器人會變成人嗎？33 則最令現代人焦慮的邏輯議題》 - PanSci 泛科學\n168\t．2050 年的住房：可感知、可量化、更懂你 - 3S Market「全球智慧科技應用」市場資訊網\n59\tC++與Unicode | iThome\n169\t變成了陌生人　才知道母親怎麼看我｜天下雜誌\n60\t阿瘦靠數據實現個人化服務，更讓BI成公司人人必備能力 | iThome\n170\tŠKODA品牌首款電動休旅 名字確定叫ENYAQ | 車壇新訊 | 國際車訊 | 發燒車訊\n61\t快訊！GSMA 正式宣佈：停辦今年 MWC 大會 - INSIDE\n171\t睡不好會要命！經常「打呼」腦栓塞風險多10倍！暢通氣管「六步\n172\t勇敢揮別不值得的人，是我們一直在練習的課題｜天下雜誌\n62\t「目的」的英文怎麼說？ | 經理人\n173\t女人不夠胸沒自信？健身部落客勇敢做自己逆轉人生 | 淘美麗 | Babyou 姊妹淘\n63\t小米三神器：GaN 充電器、無線充電藍牙音箱和 AX3600 路由器 | Qooah\n174\t最有價值員工的8種工作習慣｜天下雜誌\n64\tWindows 10 用 2TB RAM 挑機 Chrome 瀏覽器，結果慘死 | Qooah\n175\t《DJ在線》佈局2020，從資本支出看產業風向 – MoneyDJ新聞摘錄\n65\t數萬小學生集結攻城，阿里釘釘瀕臨下架，哈哈哈！\n176\t2020臺中燈會，親子共遊心得與小攻略分享 – 媽媽經｜專屬於媽媽的網站\n66\t旅行讓の腦袋大不同｜別以為孩子沒記憶！心理學家：記憶陪伴他成長\n67\t變笨、變憂鬱都是因為這個激素不夠！ 8 個讓「血清素」更濃的習慣幫你趕跑負能量 | VidaOrange\n177\tImpossible Foods x 四間本地特色餐廳：充滿港式風味的植物肉點心 - Girl Secret\n178\tEpic Games CEO：遊戲可以談政治　遊戲公司應脫離政治保持中立 | 香港 unwire.hk 玩生活．樂科技\n68\tNOWnews 今日新聞 | 先補貼後調價？燃油機車價格漲　網友：油車廠商賺飽飽？\n179\t愛馬仕彩妝 Hermès撞色脣膏、護脣膏 3月臺灣上市 | GirlStyle 臺灣女生日常\n69\tSamsung 推出摺機 Galaxy Z Flip，網民狂曬GBA惡搞 | Qooah\n70\t小米10 Pro 才是真主打，橫掃 DxOMark 音影第一，最高價格破6600 | Qooah\n180\t高學歷又有能力，陽光外表的他卻讓下屬紛紛離開…因為敗在「這１點」 - 人生課 - 部落格 - Cheers快樂工作人\n71\t幫手機加個冷氣？？小米推出冰封散熱背夾 | Qooah\n181\t打開窗就能看見長頸鹿！入住六福莊再送萬怡酒店一晚竟5千有找 | ETtoday 旅遊雲 | ETtoday旅遊新聞(旅遊)\n72\t胖子要沒朋友了？｜醫療新發現，肥胖是一種傳染病？！\n182\tXbox 情人節優惠　Xbox One X 連遊戲套裝 $2,398 | 香港 unwire.hk 玩生活．樂科技\n73\t小米10 發佈，十年夢幻之作史上最貴 | Qooah\n183\t《愛的迫降》安撫創傷的五句話：「你往後的生日，都會是好日子」｜女人迷 Womany\n74\t挑戰最高性價比！小米10發布 入手價人民幣3999元 - Yahoo奇摩新聞\n184\t休兵日充電　光復逛動物園放鬆心情\n75\tGalaxy Buds+ 推出雙單元設計，真無線耳機 | Qooah\n185\t《那個泳池與武漢肺炎》新聞解說郵輪上的病毒傳播途徑 眼尖的網友立刻認出熟悉的景象 | 宅宅新聞\n76\t為什麼富人多半不靠技術分析致富，散戶卻因「相信線型走勢」，越投資越窮？-風傳媒\n186\t【內幕】陳家欽找蘇揆背書人事案　主持署內會議嗆：勿有雜音破壞團結--上報\n77\t口罩實名制再等一下　15家廠商獲選增設口罩生產線、3月初可望日產1000萬片-風傳媒\n187\t「你的生活有忙到，連親我都懶惰嗎」諮商師：比較穩定的伴侶，只因起牀後能做到這六件事｜回家吧 I’m home\n78\tAndroid 成功減少 98% 的 app 存取電話和文字訊息\n188\t高橋一生為《愛情人形》大膽向蒼井優提出「要重現人類的乳房，可以讓我摸嗎？」 | manfashion這樣變型男\n79\tSony 帶來第二代手提電視遙控揚聲器，強化人聲表現\n189\t新傳染途徑？武漢肺炎患者糞便中有「新冠活病毒」意味著什麼？ – 媽媽經｜專屬於媽媽的網站\n80\t【改革 KMT 就像對抗武漢肺炎】提出治病方法才是關鍵！致郝龍斌與江啟臣：兩岸論述光提「萬年老梗」是沒用的 | BuzzOrange\n190\t再在之後｜女兒房 - POLYSH\n81\t【武漢人：醫院像恐怖片】遺體沒人理、民眾候診得等 2 天！法媒直擊武漢封城 8 天的「慘景與溫情」 | BuzzOrange\n191\tSoft & Share 學習日報 009 - Soft & Share 線上課程資訊分享\n82\t【比爾蓋茲 5 年前的神預言】病毒殺人速度比核武還快！武漢肺炎印證：世界還沒準備好面對下場傳染病 | BuzzOrange\n192\t粉絲被扶正《美少女戰士》冰上秀陣容公開，水手月亮當然是梅德韋傑娃 | 4Gamers\n83\tAndroid 之父自立 Essential 終於要結業了\n193\t澎湖-石滬教室-欣攝影-欣傳媒攝影頻道\n84\t不要生氣，除非生氣能讓你達到目的！ | 知 識 家\n194\t雷狼龍最強「特殊」個體　睇到唔記得要狩獵 | 宅而時習之 | GANK 電玩誌 - fanpiece\n85\t玻璃心碎的英文怎麼說？TLTR、meh、eww誘是什麼意思？這11個最新的流行用語不知道可就落伍了！-風傳媒\n195\t冠狀病毒研究做到哪了？一起來看國際科學家的合作現況 ｜ 周恬弘 ／ 醫病新境界 ｜ 獨立評論\n86\t品牌行銷人必讀！比起按讚數，你最該關注的是這些IG指標 | SmartM 新網路科技\n196\t《上流寄生族》鬼才導演奉俊昊，還有這5部黑色幽默、諷刺時弊的經典電影值得細味。 - Girl Secret\n87\t陸配子女拿「中國籍」也享健保！醫護爆不當臺灣人的5大理由-風傳媒\n197\t《冥戰錄》x明華園跨界歌仔戲定裝照出爐，韋宗成下海化身七叔 | 4Gamers\n88\t早在武漢肺炎出現之前，這羣孩子就天天戴著口罩生活…心理師提醒：這類孩子亟需家長關心-風傳媒\n198\t勃朗特三姊妹  匿名也難藏的文學光輝 - 今週刊\n89\t去高雄只吃丹丹漢堡就太可惜了！5家在地人才知道的左營美食，特地一訪絕對值得！-風傳媒\n199\t重口味接吻病 - *CUP\n90\t品牌行銷人必讀！比起按讚數，你最該關注的是這些IG指標 | SmartM 新網路科技\n91\t每個問題背後都是一課 | 知 識 家\n92\t惡作劇惹禍！在莫斯科地鐵倒地抽搐、謊稱罹患武漢肺炎　塔吉克男子最重恐吃5年牢飯-風傳媒\n93\t帶小孩不再心好累，幼兒托育補助2020新制上路，不同縣市申請眉角要注意！-風傳媒\n94\t不是公民也不是外籍人士！澳洲破天荒判決：「不具公民身分的原住民」也不算外國人-風傳媒\n95\t【《報橘》2020 擴大徵才】相信臺灣能讓世界變得更好！快加入我們，一起為公共議題找到被關注的理由 | BuzzOrange\n96\t巡檢「局部抄襲」，阿里服飾版權算法入選AAAI 2020 | 機器之心\n97\t中國病例一夜暴增先別急，疾管署接露第一手武漢肺炎疫情和持續對策 | iThome\n98\t告訴自己我可以，你才不會永遠是這個樣子！成功者面對挫折 3 種方式 | 經理人\n99\t財務報表怎麼做，老闆才一看就懂？不符這 3 原則的數字別放！ | 經理人\n250\t【E3 20】E3 公開初步廠商名單包括 Xbox、任天堂、Ubisoft、SQUARE ENIX 等 - 巴哈姆特\n251\tElectrocompaniet ECI80D 綜擴正式進駐高雄響音音響-普洛影音網\n252\t〈MSCI調整〉臺股權重雙降一不變 上海商銀大幅升評 羣創降最多 | Anue鉅亨 - 臺股新聞\n253\tSoft & Share 開源報報 059 - Soft & Share 線上課程資訊分享\n254\t年後轉職：法律專家告訴你，面試該守住哪些「眉角」 - 陳業鑫 - 專欄 - Cheers快樂工作人\n255\t〈觀察〉微風驚傳裁員 疫情僅是引線 獲利能力恐才是爆點 | Anue鉅亨 - 鉅亨新視界\n256\t#刺青這件事 Part 3：互相信任的自由發揮，讓每件刺青更顯獨特珍貴——專訪「任性刺青」 - The Femin\n257\t2020年《魔獸世界》40人副本「黑翼之巢」終於開放了。嗯，當然是經典版 | 4Gamers\n258\t等不到的包機：滯留湖北的臺灣人能回家嗎 - 紐約時報中文網\n259\t目標全年齡偽娘遊戲《僕姬 Project》送審分級沒過，原作者土下座謝罪 | 4Gamers\n260\t〈MSCI調整〉MSCI季度調整 新興市場指數中國人保、聞泰、瑞幸咖啡入列 | Anue鉅亨 - A股\n261\t新冠病毒疫情簡報：湖北省委和武漢市委書記雙雙下臺 - 紐約時報中文網\n262\t華南鼠來發 春節一路發\n263\t中國確診病例連八降 世衛：勿過度解讀 為疫情惡化做好準備 | Anue鉅亨 - 國際政經\n264\t每扇窗都有一個充滿春意的故事，H&M Home 為居家帶來臨海渡假的自然愜意 - The Femin\n265\t5G讓三大電信榮景不再？你還在存電信股嗎？ - Yahoo奇摩新聞\n266\t救救昆蟲 50萬種瀕臨滅絕恐致人類災難 - Yahoo奇摩新聞\n267\t綠角財經筆記: 我如何真確理解世界(How I Learned to Understand the World)讀後感---有限資源的正確運用\n268\t藍弋豐專欄：比較一下全球各地同時掀起的口罩之亂\n269\t賴中強：「小明」為什麼沒有臺灣身分證──移民法規解惑\n270\t《仁王2》宣佈開發完成，這次大學長絕不遲到 | 4Gamers\n271\t連NTR也玩真的💚《異種族風俗娘評鑑 心醉神迷的一天》小說紳士推薦：胯下是人生的指南針🧭 | 4Gamers\n272\t「挑鞋，就像挑另一半」：依循幾個步驟，和心愛的他 1+1 > 2 - The Femin\n273\t《Pokemon GO》推Safari Zone「城市探索者通行證」拓展城市觀光 | 4Gamers\n274\t《英雄聯盟》FoFo感情糾紛、政治立場議題延燒，母隊BLG重罰扣薪6個月 | 4Gamers\n275\t收納狂也醉心的3個質感家飾品牌，用極簡線條打造療癒的風格居家 - The Femin\n276\t開鍘！任天堂封殺葡遊戲網站，因為洩漏《寶可夢 劍／盾》畫面 | 4Gamers\n277\t《魔物獵人 世界：Iceborne》公佈第三波大型更新預告 「猛爆碎龍」「激昂金獅子」登場《Monster Hunter World: Iceborne》 - 巴哈姆特\n278\t濱邊美波客串《名偵探柯南：緋色的彈丸》角色配音，「頭號粉絲如願了！」 | 4Gamers\n279\t日本景品推出「初代PlayStation收納盒」，按下OPEN鍵就可以收納小物 | 4Gamers\n280\t歷經五年，臺灣航海王專賣店西門店宣佈結束營業 | 4Gamers\n281\t《魔物獵人 世界：ICEBORNE》三月追加魔物「猛爆碎龍」與「激昂金獅子」公開 | 4Gamers\n282\t《星露谷》開發者正製作2款同世界觀新作，但他不希望你過份期待 🏡 | 4Gamers\n283\t《全境封鎖2》3月推資料片「紐約軍閥」要你追捕亞倫基納，劉菲也回來了 | 4Gamers\n284\t《Pokémon Home》服務正式上線，把你所有的寶可夢聚集在這 | 4Gamers\n285\t全臺灣成末日舞臺《Generation Streets》模擬全世界真實3D地圖，Steam免費下載 | 4Gamers\n286\t三星Galaxy S20系列挾120Hz螢幕售US$999起，3月6日全球開賣 | 4Gamers\n287\t愛如果沒有同時，那也就只能剩下遺憾了 | 知 識 家\n288\tZara / 零售商打造品牌敘事的實例 | 知 識 家\n289\t情人節送什麼禮物，才能打動另一半？ | 知 識 家\n290\t去愛不完美的自己 | 知 識 家\n291\t時間會為你帶來驚人複利！有錢人都具備的3個理財觀念，盡早達成財富自由 | SmartM 新網路科技\n292\t自我介紹不是介紹自己，而是為了建構強大的自己 | 知 識 家\n293\t轉念，與自己和解 | 知 識 家\n294\t關係不可能完美，因為你不完美 | 知 識 家\n295\t為什麼蝙蝠攜帶這麼多致命病毒，自身卻安然無恙？ | TechNews 科技新報\n296\t山崎史上最高年份威士忌問世──山崎55年，一款你有錢也不一定買得到的酒，因為抽籤規定超嚴格！-風傳媒\n297\t時間會為你帶來驚人複利！有錢人都具備的3個理財觀念，盡早達成財富自由 | SmartM 新網路科技\n298\t顧爾德專欄：口罩實名制無法照顧到需要的人-風傳媒\n299\t「玄彬老爸」地位僅次金正恩？人民班長月薪臺幣1元？從《愛的迫降》揭北韓神祕制度-風傳媒\n300\t職場女力優勢，妳有好好發揮嗎 ? | 知 識 家\n301\t抗SARS沒缺席、見證武漢肺炎臺首個案痊癒　主治醫師：絕不讓臺灣漏氣-風傳媒\n302\t肩頸痠痛手不舉，免開刀「超音波導引PRP注射」治療新選擇！-風傳媒\n303\t官員到醫院加油打氣卻一講3小時、基層人員有填不完的表格…中國官場陋習嚴重幹擾防疫-風傳媒\n304\t武漢肺炎4月前結束太樂觀？葉金川預估這時候才有變化-風傳媒\n305\t武漢火神山人員冒死爆料「每日數百人死亡、只有黨員有機會治好」？網友提3大疑點打臉-風傳媒\n306\t連續5個港口拒收，千名「海上人球」飄流13天......柬埔寨終於同意靠岸，「威士特丹號」乘客可以回家了-風傳媒\n307\t接納事情就是會超出掌控 | 知 識 家\n308\t又一確診個案將解除隔離！感謝信寫下「生在臺灣真的很幸福」-風傳媒\n309\t下一個真的會更好嗎？科學家道出最殘酷真相：大多數人換了交往對象後，結果還是差不多-風傳媒\n310\t臺灣第一篇武漢肺炎論文！彰化「無症狀人傳人」案例登國際學術期刊-風傳媒\n311\t拒陸配子女於境外缺人道考量？王育敏：許多孩子沒有辦法選擇國籍-風傳媒\n312\t拖延者與行動家，差別在這５步！ | 知 識 家\n313\t武漢肺炎難確診　醫師曝與感冒最大區別在這2種症狀-風傳媒\n314\t《寄生上流》最難彩蛋沒有之一！奉俊昊妙用篡權歌劇《羅德琳達》暗示劇情兩大關鍵轉折-風傳媒\n315\t不想成為句點王，你該學健談的人這5個好習慣！ | 知 識 家\n200\t日本對「鑽石公主號」郵輪疫情應對引發爭議 - 紐約時報中文網\n316\t「中國是真正的亞洲病夫！」《華爾街日報》刊登評論惹議，北京要求作者道歉-風傳媒\n201\t【有片】模擬市民達人重現「魔獸世界」銀月城 | 速食電玩情報站 | GANK 電玩誌 - fanpiece\n317\t武漢肺炎確診病例一夜暴增上萬人，真是疫情大失控？中國專家這樣解釋-風傳媒\n202\t三星 Galaxy Z Flip 上手第一印象：摺疊結構牢固、玻璃螢幕更實用 - Saydigi-Tech | 點子科技\n318\t跟各國人都可以聊得來：語言大師教你如何掌握三大關鍵快速精通各國語言，學了就不忘！ | 知 識 家\n203\t一張限量「麻將牀墊」，讓客人搶光光！臺灣本土傢俱obis：不打價格戰，我們堅持差異化 - 深度解讀 - 觀點 - Cheers快樂工作人\n319\t代言品牌慘被抵制、投資卻爆千萬假帳 曾一同「背骨臺灣」範瑋琪姊妹們，如今各自深陷火窟-風傳媒\n204\t三星旗艦新機體驗， 超進化百億鏡頭! Galaxy S20 系列 S20、S20+ 及 S20 Ultra 發表~ @ ^(oo)^~小米行動CCC :: 痞客邦 ::\n320\t臺灣74年前也曾「封城」！萬人隔離等死、越界就用機槍掃射…霍亂從中國登陸布袋港傷亡慘重-風傳媒\n205\t影／守住日本最知名賽道！Nissan GT-R Nismo擊敗保時捷911 GT3奪下最速王 | 車壇新訊 | 國際車訊 | 發燒車訊\n206\t〈政院提產業紓困〉蘇揆拍板匡列600億元特別預算 因應疫情衝擊 | Anue鉅亨 - 臺灣政經\n321\t不要讓抱怨變成習慣，愛抱怨的人不會進步 | 知 識 家\n322\t稱撤回陸配子女入境是「主流民意」　範世平：證明臺灣人太厭惡中國-風傳媒\n207\t有夢最美，但沒夢怎麼辦？以下兩招教你找到人生中的熱情！ | TechOrange\n323\t肺炎疫情：日本捐贈物上的漢語詩詞意外引發文化討論-風傳媒\n208\t【新刊熱銷中】Cheers 2-3月雙月刊_2020全球潮商機 – 天下網路書店\n324\tSARS當年若叫「廣東肺炎」，中國或能學會別再瞞報、別吃蝙蝠！他：武漢肺炎一點都不歧視-風傳媒\n209\t〈分析〉為何鮑爾稱下輪衰退Fed仍將採用QE？兩張圖見端倪 | Anue鉅亨 - 鉅亨新視界\n325\t防疫重要還是經濟重要？企業該何時復工？中國各省因武漢肺炎疫情陷入兩難-風傳媒\n210\t【谷阿莫】妳的閨蜜找她兒子來詐騙妳財產，還裝死把妳送去坐牢2020《葛蕾絲的墜落》\n326\t武漢肺炎風暴》中國研究人員承認「病毒測試並不準確」，專家警告「大部分病例都沒有被發現」-風傳媒\n211\tDIO模擬《Time To Stop Time》Steam時間暫停跑酷新作，來自《JoJo的奇妙冒險》「砸！瓦魯多」靈感 🚜 | 4Gamers\n327\t新新聞》起底喬武漢包機的臺協會長蕭永瑞，國民黨大老之女、南懷瑾門生-風傳媒\n212\t【投書】從「口罩之亂」看社區型公衛防疫體系的失落 ｜ 陳立昇 ／ 多元發聲．讀者投書 ｜ 獨立評論\n328\t預售新案銷量不到5成、疫情衝擊、賣方仍開高價…這些原因讓房市復甦全面落空！-風傳媒\n213\t每天不花超過500元、善用4本帳存了三桶金！她45歲擁有千萬身價\n329\t「挺臺先自救！」10大網路意見領袖戰力破錶　嗆爆「範瑋琪們」-風傳媒\n214\t何時該賣出持股？年賺400萬肥羊醫生：2步驟觀察EPS是否持續衰退-財經好讀-精彩書摘-商周財富網\n330\t比特幣重返1萬美元，虛擬貨幣跟N世代有關嗎？-風傳媒\n215\t愛憋尿！她突尿不出送急診…醫一照膀胱「變鐘乳石柱」嘆：已經沒救了 | ETtoday健康雲 | ETtoday新聞雲\n331\t斷層掃描即確診！湖北新增「臨牀診斷」檢查，武漢肺炎病例一日暴增1.3萬、死亡破百-風傳媒\n216\t美國E3遊戲展6月照常舉辦，首波參展廠商陣容公開 | 4Gamers\n332\tSony 終於讓第三方開發者為其相機設計遙控器\n217\t小米 10 Pro DxOMark 分數出爐　奪得相機、聲音評分雙料冠軍 - Saydigi-Tech | 點子科技\n333\t街頭藝人與職業乞丐都是「市場供需」的體現！但當「可憐」成為一種商品，你買單嗎？ | BuzzOrange\n218\t快揪朋友開喝　星巴克這兩天買一送一 - Yahoo奇摩理財\n334\t月經失調又經痛，四階段吃對食物養子宮 – 媽媽經｜專屬於媽媽的網站\n335\t找老公就要找這款！保護老婆義不容辭的生肖男 – 媽媽經｜專屬於媽媽的網站\n219\t〈羣創財報〉終結連六年獲利 去年大虧174億元 每股虧1.77元 | Anue鉅亨 - 臺股新聞\n336\t別迷失養兒防老，爸媽不要幫小孩硬加個「伴」 – 媽媽經｜專屬於媽媽的網站\n220\t中國新冠疫情趨於平穩了嗎？並非如此 - 紐約時報中文網\n337\t請不要將女人的付出視為理所當然 – 媽媽經｜專屬於媽媽的網站\n221\t小米 10 系列雙機發布：搭載 S865、一億像素鏡頭、50W 快充　售價 1.7 萬臺幣起 - Saydigi-Tech | 點子科技\n338\t《樓中亮》小孩超過十點睡，容易過敏長不高！ – 媽媽經｜專屬於媽媽的網站\n222\t小７終開放數位寄杯！少這功能挨批有夠廢 - 讀新聞 - 部落格 - Cheers快樂工作人\n339\t熬夜追劇惹的禍！卵巢早衰不孕一起來 – 媽媽經｜專屬於媽媽的網站\n223\t平行運算 - Soft & Share 線上課程資訊分享\n340\t成為限時動態達人！七大限時動態小建議 ｜ MeetHub\n224\tShe’s Back！極簡女王 Phoebe Philo 據傳將帶著全新個人品牌強勢回歸 - The Femin\n350\t冰平線之旅、知牀海獸、羅臼溫泉：東北海道真正的魅力在此 - 旅飯 - Pantravel\n341\t研究：Ｏ型易中風Ａ型多便祕　4大血型「疾病風險」揭露 - 每\n225\t好市多消毒夯貨上架 她揭3真相勸別買 - Yahoo奇摩理財\n351\tKobe生前給Arenas最後的任務：將頭腦用在籃球上，去執教年輕人，不要浪費時間！ - Haters-黑特籃球NBA新聞影音圖片分享社區\n342\t長腿、翹臀還是雪乳？各位男士們，你是哪一派？ | manfashion這樣變型男\n226\t睽違15年! 文策院與蔡明亮攜手率隊進軍柏林影展與市場展 盼《日子》角逐金熊獎 - 非池中藝術網\n352\t防疫如何過情人節？逾七成宅家不減愛 - uho優活健康網\n343\t小米 10 旗艦手機　香港售價 + 發售日期 + 1億像素 | 香港 unwire.hk 玩生活．樂科技\n227\t中階主管是夾心餅乾嗎？ MasterCheers大師線上影音課程 - Cheers雜誌\n353\t吳永盛撕裂傷不開刀　期待浴火重生\n344\t良師益友！Kobe生前短信曝光，鼓舞失利的同機棒球教練，字裏行間太暖心！ - Haters-黑特籃球NBA新聞影音圖片分享社區\n228\t募資超標300%！「A-GUI互動飛機杯」加送貓伊光本本經典「優香學姐」與全新改款💘 | 4Gamers\n354\t美股｜中國礦霸嘉楠耘智 Canaan 股價回升，「單日飆漲 80%」易手 1,100 萬股 | 動區動趨-最具影響力的區塊鏈媒體 (比特幣, 虛擬貨幣)\n345\t資料科學和商業智慧 Qlik Sense 精通課程 - Soft & Share 線上課程資訊分享\n229\t運動可以預防失智！有氧運動、肌力訓練效果好，日本專家再推「認知運動」\n355\tCoinbase 保證金交易捲土重來！發言人：動用全部資源只求成功 - 區塊客\n346\t逼走KD拿到億元大合同！格林的小算盤已成真，但自己卻也可能走向危險處境！ - Haters-黑特籃球NBA新聞影音圖片分享社區\n230\t巴菲特左右手孟格示警  「麻煩事將接踵而至」 | Anue鉅亨 - 美股\n356\t新增全速域ACC TOYOTA ALPHARD新年式車型售價271萬 | 車壇速報 | 國內車訊 | 發燒車訊\n347\t日本養殖場開發「算鮪魚」AI，每年省下超過 250 小時的工時！ | TechOrange\n231\t中國究竟有多少新冠病毒確診病例？ - 紐約時報中文網\n357\t世界上最貴的十大礦物，你都認識嗎？ | 顛覆世界 – 改變的力量\n348\t詹姆斯的影響力！老鷹老闆：即使他38歲了我也會給合同，還會考慮為他修私人高鐵路！ - Haters-黑特籃球NBA新聞影音圖片分享社區\n232\t原汁原味《來自深淵》劇場版合作咖啡廳飲料名超母湯，沒講是從哪裡取的 | 4Gamers\n358\t一樣牛肉麵養百樣人︳一盤水餃吃兩個小時，「寂寞常客名單」上的他們 ‧ A Day Magazine\n359\t後補也瘋狂！16投狂轟27分，遭隔扣大爆發，詹皇小弟為大合同太拼！（影） - Haters-黑特籃球NBA新聞影音圖片分享社區\n349\t11 年後，比特幣可用性依舊不如人意 - 區塊客\n233\tisCar - Subaru Forester GT Edition套件上市，最低加價7萬元\n360\t【東南亞經濟】武漢肺炎 (新冠肺炎) 衝擊比 SARS 還猛烈？二大關鍵指標讓你運籌帷幄！ | 部落格 | MacroMicro 財經M平方\n234\t2020史丹佛最受歡迎【Life Design Lab生涯教學法】 | 找出自我優勢，你將無可取代 - Cheers快樂工作人雜誌\n361\t突然覺得，什麼事都做不了：找回能量的瑜珈休息式｜女人迷 Womany\n235\t〈武漢肺炎疫情〉華航拚撙節 主管基本薪調減10% 暫不實施無薪假 | Anue鉅亨 - 臺股新聞\n362\tJumpHunter 不需把手機放身上的跳繩計數器（Android） – 重灌狂人\n236\t英皇電競宣佈G-Rex退出《英雄聯盟》2020年度PCS所有賽事 | 4Gamers\n363\t效仿範喬丹，兒子出生後實力升級？字母哥：也許這能發生在我身上！ - Haters-黑特籃球NBA新聞影音圖片分享社區\n237\tAI 時代的零售業進化策略\n238\t《英雄聯盟》G-Rex 戰隊退出 PCS 職業聯賽《League of Legends》 - 巴哈姆特\n364\t「引爆右腦」科學家發現大腦結構與宇宙驚人相似！ | 顛覆世界 – 改變的力量\n239\t英國媒體 BBC 推出免費遊戲《Nightfall》強調無營利及內購 盼為玩家打造安全遊戲環境《Nightfall - online multiplayer》 - 巴哈姆特\n365\t名嘴：詹姆斯早晚得直面Leonard的挑戰，他必須拿出強勢的回應！ - Haters-黑特籃球NBA新聞影音圖片分享社區\n240\t我每天都想離職！你該培養隨時可換工作的體質 - 編輯選書 - 讀書會 - Cheers快樂工作人\n366\t巧克力囊腫易變卵巢癌　３症狀勿輕忽 - uho優活健康網\n241\tEpic Games表示遊戲可有政治內容，但遊戲公司應要遠離政治 | 4Gamers\n367\t動力轉向恐完全失靈！ 特斯拉針對北美1.5萬輛Model X進行召回 | 車壇新訊 | 國際車訊 | 發燒車訊\n242\t一度點火仍沒發射 飛鼠一號火箭未升空 - Yahoo奇摩新聞\n368\t「人有夢有理想，但卻低估了自己的惰性和弱點」，陶晶瑩的生活哲學讓我們茅塞頓開 ‧ A Day Magazine\n243\t2020重仁塾講座@Cheers─勇敢世代的未來必修課 - Cheers快樂工作人雜誌\n369\t一眉哥：威少橫衝直撞很難防，但他做的一件事讓我很生氣，我要向他發起挑戰！ - Haters-黑特籃球NBA新聞影音圖片分享社區\n244\t2020臺北國際電玩展改6月下旬，新檔期強撞端午連假 | 4Gamers\n370\t韋德支持小兒子變性引熱議！美媒讚譽：樹立重要榜樣讓世界變得更美好！ - Haters-黑特籃球NBA新聞影音圖片分享社區\n245\t【TpGS 20】2020 臺北國際電玩展宣佈延至 6 月 25 日起端午節四天連假舉辦 - 巴哈姆特\n371\t中華男足新教頭　王家中再掌兵符\n246\tisCar - 鴻海攜手裕隆，成立合資公司共同開發新車\n372\t還說他是水貨狀元？Zion回應外界質疑，隊友：我還沒看到有人能防住他！ - Haters-黑特籃球NBA新聞影音圖片分享社區\n247\t失能症玩家用「下巴」擊敗《黑暗靈魂3》薪王化身，只因與生俱來的「Gamer 魂」🎮 | 4Gamers\n373\t「AmazingSelfies」超現實的自拍相機（iPhone） – 重灌狂人\n248\t《聖火降魔錄 風花雪月》外傳故事「煤闇之章」正式推出，新角色新職業參戰 | 4Gamers\n374\t比特幣強彈成看漲信號？嘉楠上市後首見股價飆漲逾 80%！ - 區塊客\n249\t白宮官員稱華為可利用「後門」祕密獲取敏感信息 - 紐約時報中文網\n375\t中國返臺兒發燒　周儀翔虛驚一場\n376\t14投9中，正負值全隊第一！勇士輸球卻迎喜，Wiggins已漸入佳境！（影） - Haters-黑特籃球NBA新聞影音圖片分享社區\n377\t薪資仲裁不煩心　張志豪專注訓練\n378\t中華隊16人名單出爐　馬國來訪未定\n379\t【影片】戰術性後撤！Howard選擇距離罰球線兩步遠投射，湖人擔心季後賽被針對！ - Haters-黑特籃球NBA新聞影音圖片分享社區\n380\t五個數位行銷大師分享他們的Instagram訣竅！電商平臺一定要看！ ｜ MeetHub\n381\t暴龍15連勝遭中斷　Lowry：我們像僵屍\n382\t克隆版勇士出現？科爾親承1人堪比追夢綠，追逐勇士舊將暗藏玄機！ - Haters-黑特籃球NBA新聞影音圖片分享社區\n383\t全明星賽球衣正式曝光：詹姆斯隊將身穿2號，字母哥隊穿24號！ - Haters-黑特籃球NBA新聞影音圖片分享社區\n384\t在人心惶惶的防疫期，網友賦予這些詞「荒誕」的新意義 ‧ A Day Magazine\n385\t性能新色！Gogoro S2 ABS新增石磨灰、S2 Cafe Racer導入ABS剎車系統 | 車壇速報 | 國內車訊 | 發燒車訊\n386\t與 Vanessa Hudgens 分手多年後，她是第一個讓 Zac Efron 動真情的女人 ‧ A Day Magazine\n387\t武漢肺炎疫情中 為什麼美股還能像脫韁野馬一般的向前衝？ - Yahoo奇摩理財\n388\t終結衛冕冠軍15連勝！5人得分上雙，厄文休戰後籃網5戰4勝，這就尷尬了！（影） - Haters-黑特籃球NBA新聞影音圖片分享社區\n389\t宏佳騰Ai-1 Comfort系列試乘開跑，預購禮大方再加碼 | 車壇速報 | 國內車訊 | 發燒車訊\n390\t關鍵時刻立大功！正負值+23全場最高，Caruso當上奇兵很「禿然」！（影） - Haters-黑特籃球NBA新聞影音圖片分享社區\n391\t【璟滕設計 王麗慧】細膩中蘊藏優雅靈魂 經典輕奢的時尚宅邸 - 名人有約 - OPEN Design-室內設計\n392\t【狂人日記】幣圈交易所為什麼如此賺錢，因為他功能太強大了。2 月 13 日行情分析 - 區塊客\n393\t【英雄聯盟】暴龍珍重再見　G-Rex宣佈退出PCS本年度賽事\n394\t口罩實名制再等一下　15家廠商獲選增設口罩生產線、3月初可望日產1000萬片 - Yahoo奇摩理財\n395\t現身道奇球場　Betts：今年會很特別\n396\t5數據殺進聯盟前三！魔獸14+11衝擊神蹟，罰球習慣學湖人前輩？（影） - Haters-黑特籃球NBA新聞影音圖片分享社區\n397\t【艾立思國際家飾】TAIDD 2020新春團拜 齊聚艾立思臺中旗艦店！ - 名人有約 - OPEN Design-室內設計\n398\tAragon 法庭正式啟動，支撐它的 DAO 治理協議你瞭解嗎？ - 區塊客\n399\t詹姆斯苦戰42分鐘砍32+12+14，延長賽倒地拼搶險些受傷！（影） - Haters-黑特籃球NBA新聞影音圖片分享社區\n400\t足球亞冠賽　臺籍裁判首次主吹\n401\t房市／買房一定要買車位嗎？　專家建議從地段考量 - Yahoo奇摩理財\n402\t#2020旅行攝影# 如何拍好夜色下的「噴泉」？-科技新聞-新浪新聞中心\n403\tJokic 22+11關鍵失誤，詹姆斯大三元，Davis 33分，西區榜首戰湖人延長賽勝金塊（影） - Haters-黑特籃球NBA新聞影音圖片分享社區\n404\t因傷無緣全明星，Lillard退出後舉薦一人，或許為70分先生送出生涯首份大禮！ - Haters-黑特籃球NBA新聞影音圖片分享社區\n405\t猿隊新洋投尼寇力　陳偉殷前隊友加盟\n406\t這5檔ETF逆勢大漲，第一名漲20% - Yahoo奇摩理財\n407\t拉傷鼠蹊退出明星週　Lillard：健康為要\n408\t【影片】神仙球！東契奇造犯規後，空中小拉桿還將球拋進！ - Haters-黑特籃球NBA新聞影音圖片分享社區\n409\t蔡明彰分析師觀點：疫情趨緩放寬復工，買點到了嗎？ - Yahoo奇摩理財\n410\t中國作家「討伐」詹姆斯，美國高中女校長詆毀Kobe，一番話讓人憤怒！ - Haters-黑特籃球NBA新聞影音圖片分享社區\n411\t綠軍有意續約Hayward，安吉暗示他應放棄3410萬，這劇情Horford似曾相識！ - Haters-黑特籃球NBA新聞影音圖片分享社區\n412\t【影片】烏龍球！比分焦灼關頭，Biyombo爭搶籃板時將球點進自家籃筐，這一失誤讓他十分懊悔！ - Haters-黑特籃球NBA新聞影音圖片分享社區\n413\t【影片】拿球砸向對手被驅逐！紐約惡漢Portis再次惹事，這兄弟的錢真多！ - Haters-黑特籃球NBA新聞影音圖片分享社區\n414\t【影片】腹股溝拉傷！Lillard因傷無緣三分大賽和全明星正賽，希望Booker可以頂替他出戰！ - Haters-黑特籃球NBA新聞影音圖片分享社區\n415\t觀山河濱公園 賞花賞鳥樂遊趣-欣攝影-欣傳媒攝影頻道\n416\t一位臺灣工程師的提案初體驗：如何在 Kickstarter 開始發起羣眾集資？ | 羣眾觀點\n417\t一眉哥以防守為榮：我要做DPOY，不能讓別人在我頭上得分，盡力幫助詹姆斯！ - Haters-黑特籃球NBA新聞影音圖片分享社區\n418\t轟31分仍輸球，但波波維奇賽後的一番評價，讓我們看到了真正的保羅！ - Haters-黑特籃球NBA新聞影音圖片分享社區\n419\t變陣一箭雙鵰！5屆全明星打後補才是正解？主帥靈感來自鬼切！ - Haters-黑特籃球NBA新聞影音圖片分享社區\n420\t【豐洲】保證鮮度！大啖海鮮新去處 江戶前場下町美食5選 | MATCHA - 日本線上旅遊觀光雜誌\n421\t香港Yahoo拍賣5月結束營業！ | Will＿ＰＬＡＹ＞ | 大娛樂家 - fanpiece\n422\t非常的人性化！綠軍發佈官方聲明：允許球員參加Kobe追悼會，已調整航班飛行時間！ - Haters-黑特籃球NBA新聞影音圖片分享社區\n423\t攝氏18.3度，當南極跟臺北一樣熱 | DQ 地球圖輯隊 帶你看透全世界\n424\t力拔山兮氣蓋世 騰雲翻湧山莊前-雲洞山莊雲海夕照-欣攝影-欣傳媒攝影頻道\n425\t【地球 24小時】02/10  我與我的小狗們 | DQ 地球圖輯隊 帶你看透全世界\n426\tOMA 在峇裏島首件作品！對當地社區開放的不一樣飯店 Potato Head Studios｜MOT TIMES 明日誌\n427\t日本對“鑽石公主號”郵輪疫情應對引發爭議 - 紐約時報中文網\n428\t27檔「營收亮眼股」公開，最高檔1月營收成長116%！出手前先看這3點-珍妮愛投資-股市-商周財富網\n429\t從慘賠到存下300張股票，存股達人自白：那一夜，女兒問我為什麼要學投資？-財富線上-致富故事-商周財富網\n430\t定存股》2013年起，現金股利不曾低於4.81元！裕融可以買了嗎？艾蜜莉這樣說-小資女艾蜜莉-臺股-商周財富網\n431\t金融股1月自結EPS公開，富邦金成長率158%居冠、日盛金現金殖利率逾6%！-財富網編輯嚴選-股市-商周財富網\n432\t有時快樂就是疼愛自己多一點，期望別人少一點。\n433\t爸爸加熱水煮蛋…下秒「原地自爆炸巨響」全家驚醒！　網長知識：我也這樣過 | ETtoday房產雲 | ETtoday新聞雲\n434\t【格綸設計 虞國綸】2020德國iF設計大獎 「酌綠院落」再躍世界大賞！ - 名人有約 - OPEN Design-室內設計\n435\t【易寬設計】2020德國iF設計大獎 張華騫「笑」迎國際大獎！ - 名人有約 - OPEN Design-室內設計\n436\tLosslessCut v2.7.1 速度快、不失真的影片裁剪工具 – 重灌狂人\n437\t擁有什麼特質的女性，會讓男人覺得是適合結婚的對象？ | VidaOrange\n438\t被韓國迎頭趕上，為什麼日本電影拿不到奧斯卡？ - The News Lens 關鍵評論網\n439\t原來這4位韓國女IDOL身材超好：RedVelvet/ TWICE/ 少女時代/ 宇宙少女，連女生都非常羨慕 - Girl Secret\n440\t練就面對批評的勇氣！陶晶瑩：「做人，不要活在他人眼光中」 – 媽媽經｜專屬於媽媽的網站\n441\t因應武漢肺炎疫情，GSMA 宣布世界行動通訊大會 MWC 正式停辦 - 電獺少女\n442\t全臺首家在新竹巨城！東京90年歷史豬排店「銀座梅林」插旗臺灣 | ETtoday 旅遊雲 | ETtoday旅遊新聞(旅遊)\n443\t甜過情人節！2大手搖飲推「超夢幻草莓飲品」　還加了芝士鹹奶蓋、生巧克力 | ETtoday 旅遊雲 | ETtoday旅遊新聞(旅遊)\n444\t野外露營透透氣！新竹風莊園遍灑陽光綠意　夏日滑水道孩子們嗨翻天 | ETtoday 旅遊雲 | ETtoday旅遊新聞(旅遊)\n445\t外酥、咬開滿滿肉汁！桃園桃城雞排超狂炸全雞　推出靜崗抹茶口味 | ETtoday 旅遊雲 | ETtoday旅遊新聞(旅遊)\n446\t《阿森一族》27年前預言冠狀病毒席捲世界？仲預言埋高比之死？ | Will＿ＰＬＡＹ＞ | 大娛樂家 - fanpiece\n447\t【武漢肺炎】武漢大逃亡 Worldpop 路線圖 或已散佈全球 382 個城市 | 香港 unwire.hk 玩生活．樂科技\n448\t「振興抵用券」跟消費券差在哪？懶人包一次看！ – 媽媽經｜專屬於媽媽的網站\n449\t手腳冰冷 ≠ 虛寒體質，黃奎祐中醫師：先搞懂「厥逆」原因纔是\n450\t情人節寵愛自己：適合情人節的8樣單品 - Girl Secret\n451\t「他們集體逼近、在我面前自慰」印度女子大學結業式，遭一羣男子闖入性侵｜性別力 Gender Power\n452\t【神戶】超推伴手禮舒服的「千代治襪子」｜好品質想穿上就走！ | MATCHA - 日本線上旅遊觀光雜誌\n453\t距離大阪和京都超近的滋賀景點・祭典和美食大集合 | MATCHA - 日本線上旅遊觀光雜誌\n454\t加整支糖葫蘆！臺中首創「神級草莓冰沙」　還鋪滿濃濃邪惡奶蓋 | ETtoday 旅遊雲 | ETtoday旅遊新聞(旅遊)\n455\tSoftBank 願景基金第二輪因投資者退出需暫停 - UNWIRE.PRO\n456\t保養膝蓋樓梯爬不爬？許嘉麟醫師：養好膝蓋「動」、「吃」都是關\n457\t吃營養品助抗流感武漢肺炎？馬尚榮藥師：免疫力不是越強越好 -\n458\t中國美術界發出「為時代畫像」徵集令，卻成了大型翻車現場 | 微信上的中國\n459\t【氫能源技術突破】臺灣團隊在矽的表面鋪上石墨烯，把太陽能轉氫能的效率提高 20% | TechOrange\n460\t洩壓武漢肺炎民怨？上海市長空降湖北救火，魔都市民為何「歡慶不送」 | 過去24小時 | 轉角國際 udn Global\n461\t受疫情波及，迪士尼股價暫時拉回整理，中長線仍可分批佈局-美股大贏家-美股-商周財富網\n462\t老藥新用能治「武漢肺炎」？抗伊波拉、瘧疾等藥物備受期待 - The News Lens 關鍵評論網\n463\tWindows 7 最終更新後頻現死機　用戶無法正常關閉電腦 | 香港 unwire.hk 玩生活．樂科技\n464\t別等痘痘長出來才治療，醞釀期的粉刺問就該考量進去 - The News Lens 關鍵評論網\n465\t疫情下怎麼過節？借助 AI 幫大家煮頓飯！\n466\t為什麼湖北病例一天激增1萬多例？\n467\t武漢肺炎疫情四月結束？ 葉金川：太過樂觀！ LIFE生活網\n468\t誰說自己是網紅 美國冰淇淋小販就加倍收費 | DQ 地球圖輯隊 帶你看透全世界\n469\t南京為赴湖北拼命的醫護人員提供實際獎勵：子女將獲得入學相關福利 | 微信上的中國\n470\t快閃店穩爆紅？營運顧問楊智鈞分享5大關鍵 - The News Lens 關鍵評論網\n471\t鑽石公主號共218人確診「武漢肺炎」，慢性病和高齡乘客檢測「陰性」可先下船 - The News Lens 關鍵評論網\n472\t因應「武漢肺炎」政府第一波紓困方案出爐：將發「抵用券」刺激內需消費 - The News Lens 關鍵評論網\n473\t三百年「沒人罹癌」，祕訣就是每天吃它！生髮、抗癌「補腎」一舉\n474\t張曉明被免去港澳辦主任職務，政協副主席夏寶龍兼任 - The News Lens 關鍵評論網\n475\t日本又一搞笑商品　回頭率100%僧侶袈裟雨衣 | 今日玩物睇真啲 | GANK 電玩誌 - fanpiece\n476\t重返世界第1　McIlroy：已嘗過滋味\n477\t用前任的名字為蟑螂命名  然後看牠被吃掉  美國動物園的情人節限定活動  | DQ 地球圖輯隊 帶你看透全世界\n478\t鑽石公主號檢疫員遵循世衛方針也中鏢！日本擬在海上直接診療輕症\n479\t一番賞又來了！花650日幣把「美少女戰士露娜」娃娃抱回家！ | MATCHA - 日本線上旅遊觀光雜誌\n480\t【MHW ICEBORNE】猛爆碎龍、激昂金獅子加入第三次大型更新 | 速食電玩情報站 | GANK 電玩誌 - fanpiece\n481\t任職外商主管年薪破百，為了陪孩子換工作收入大減值得嗎？專家：做選擇前，先想3件事-斜槓教練-觀點新聞-商周財富網\n482\t科大師「被樂捐」救招生？ 教部調查 | 熱門話題 | 產業 | 經濟日報\n483\t天下文化─這麼搶手不是沒道理！「紙」總是默默陪我們走過生命的各個階段...\n484\t心臟手術後重返球場　Blind：很想踢足球\n485\t2020年新球季新規則　大聯盟公佈\n486\t尊重球隊安排　大谷翔平：我沒問題\n487\tDirect Message for Instagram 在電腦上使用 IG 傳訊接收訊息功能\n488\tM-BENZ E-Class 小改款將有智慧化升級，今年夏季歐洲上市 | T客邦\n489\t限量版澳洲叢林大火消防員玩具 » ㄇㄞˋ點子\n490\t情人節擔心詐騙趁虛而入，三大風險小心個資「情人劫」！ | T客邦\n491\t思考上別陷入兩種極端，武漢臺商包機不必淪為「電車困境」 - The News Lens 關鍵評論網\n492\t從「可防可控」到「疫情劇增」，中央集權下地方治理的困境與挑戰 - The News Lens 關鍵評論網\n493\t口罩QA懶人包：可以噴酒精後繼續用嗎？如果有多的能不能上網賣？ - The News Lens 關鍵評論網\n494\t疫情重點更新：對於「新型冠狀病毒」的正確觀念與態度 - The News Lens 關鍵評論網\n495\t接下來的疫情關注三件事：「武漢肺炎」的特性、醫療資源侷限性，以及臺灣防疫具體目標 - The News Lens 關鍵評論網\n496\t對中國一廂情願的「非洲秀才」，成為被中國利用的棋子 - The News Lens 關鍵評論網\n497\t將近一年的選舉廝殺後，能夠療癒社會的政治領袖存在嗎？ - The News Lens 關鍵評論網\n498\t梅克爾的基民盟會不會跟著另類選擇黨「右傾」？ - The News Lens 關鍵評論網\n499\t時常忽略的兒少權益：離婚協議書應增列未成年子女會面與扶養費 - The News Lens 關鍵評論網\n"
    }
   ],
   "source": [
    "pqueue = Queue()\n",
    "items = pandas.DataFrame()\n",
    "with Pool() as pool:\n",
    "\n",
    "    results = [pool.apply_async(get_articles, (start_news_id, length)) for start_news_id in range(0, total_length, length)]\n",
    "    \n",
    "    for result in results:\n",
    "        items = items.append(result.get())\n",
    "\n",
    "\n"
   ]
  },
  {
   "cell_type": "code",
   "execution_count": 4,
   "metadata": {},
   "outputs": [
    {
     "data": {
      "text/html": "<div>\n<style scoped>\n    .dataframe tbody tr th:only-of-type {\n        vertical-align: middle;\n    }\n\n    .dataframe tbody tr th {\n        vertical-align: top;\n    }\n\n    .dataframe thead th {\n        text-align: right;\n    }\n</style>\n<table border=\"1\" class=\"dataframe\">\n  <thead>\n    <tr style=\"text-align: right;\">\n      <th></th>\n      <th>title</th>\n      <th>description</th>\n      <th>linkurl</th>\n      <th>keywordtrend</th>\n      <th>uidactscore</th>\n      <th>socialactscore</th>\n      <th>activescore</th>\n      <th>groups</th>\n    </tr>\n  </thead>\n  <tbody>\n    <tr>\n      <th>0</th>\n      <td>尺寸更大、讀寫體驗升級！Readmoo mooInk Pro 13 搶先試用心得分享 | T...</td>\n      <td>Readmoo 讀墨電子書最新 13.3 吋電子書閱讀器「mooInk Pro 13」，以重...</td>\n      <td>https://technews.tw/2020/02/13/readmoo-mooink-...</td>\n      <td>0</td>\n      <td>85</td>\n      <td>0</td>\n      <td>34272</td>\n      <td>['3CExpert_tw', 'tech_tw']</td>\n    </tr>\n    <tr>\n      <th>1</th>\n      <td>科學家在「量子糾纏」取得重大突破，「量子網際網路」時代將提前到來 | TechNews 科技新報</td>\n      <td>科學家們已經成功將兩個距離比以往更遠的「量子記憶體」（Quantum Memory）糾纏在一...</td>\n      <td>https://technews.tw/2020/02/13/scientists-make...</td>\n      <td>0</td>\n      <td>85</td>\n      <td>0</td>\n      <td>34272</td>\n      <td>['3CExpert_tw', 'tech_tw']</td>\n    </tr>\n    <tr>\n      <th>2</th>\n      <td>中國徵收私產，癌末病患被踢出院！傳蘇州工廠開工爆疫情 | TechNews 科技新報</td>\n      <td>武漢肺炎的確診患者不斷增加，讓中國醫療系體系瀕臨臨界點，中國當局開始緊急徵收民營醫院、旅館、...</td>\n      <td>https://technews.tw/2020/02/13/china-wuhan-pne...</td>\n      <td>0</td>\n      <td>85</td>\n      <td>0</td>\n      <td>34272</td>\n      <td>['3CExpert_tw', 'tech_tw']</td>\n    </tr>\n    <tr>\n      <th>3</th>\n      <td>波士頓動力機器狗要上工了，成為鑽油平臺的巡守員 | TechNews 科技新報</td>\n      <td>波士頓動力公司能開門、爬梯、跳舞、後空翻的機器狗 Spot，剛剛找到了第一份正式工作。\\r\\...</td>\n      <td>https://technews.tw/2020/02/13/boston-dynamics...</td>\n      <td>0</td>\n      <td>85</td>\n      <td>0</td>\n      <td>34272</td>\n      <td>['3CExpert_tw', 'tech_tw']</td>\n    </tr>\n    <tr>\n      <th>4</th>\n      <td>中國半導體業現況：晶圓廠正常運轉，晶片設計遠端辦公 | TechNews 科技新報</td>\n      <td>新浪科技引述第一財經報導，中國新冠肺炎疫情嚴峻，半導體業受此次疫情的影響程度也引發關注；據瞭...</td>\n      <td>https://technews.tw/2020/02/13/china-semicondu...</td>\n      <td>0</td>\n      <td>85</td>\n      <td>0</td>\n      <td>34272</td>\n      <td>['3CExpert_tw', 'tech_tw']</td>\n    </tr>\n    <tr>\n      <th>...</th>\n      <td>...</td>\n      <td>...</td>\n      <td>...</td>\n      <td>...</td>\n      <td>...</td>\n      <td>...</td>\n      <td>...</td>\n      <td>...</td>\n    </tr>\n    <tr>\n      <th>495</th>\n      <td>接下來的疫情關注三件事：「武漢肺炎」的特性、醫療資源侷限性，以及臺灣防疫具體目標 - The...</td>\n      <td>現階段臺灣沒社區感染，正確嚴格的隔離政策最重要，其次才是個人防疫。只要境外的病毒不進來，境內...</td>\n      <td>https://www.thenewslens.com/article/131104</td>\n      <td>0</td>\n      <td>35</td>\n      <td>0</td>\n      <td>3388</td>\n      <td>None</td>\n    </tr>\n    <tr>\n      <th>496</th>\n      <td>對中國一廂情願的「非洲秀才」，成為被中國利用的棋子 - The News Lens 關鍵評論網</td>\n      <td>譚德塞抗疫的宗旨是「別讓中國不開心」，但病毒卻很開心，防線不知道何時會被突破的各國，也愈來愈...</td>\n      <td>https://www.thenewslens.com/article/131155</td>\n      <td>0</td>\n      <td>35</td>\n      <td>0</td>\n      <td>3388</td>\n      <td>['WhiteCollar_tw', 'business_tw']</td>\n    </tr>\n    <tr>\n      <th>497</th>\n      <td>將近一年的選舉廝殺後，能夠療癒社會的政治領袖存在嗎？ - The News Lens 關鍵評論網</td>\n      <td>如果我們期望更成熟的公民社會，我們無法不從意見領袖自身的內在關照與心理反思出發，而意見領袖對...</td>\n      <td>https://www.thenewslens.com/article/131060</td>\n      <td>0</td>\n      <td>35</td>\n      <td>0</td>\n      <td>3388</td>\n      <td>None</td>\n    </tr>\n    <tr>\n      <th>498</th>\n      <td>梅克爾的基民盟會不會跟著另類選擇黨「右傾」？ - The News Lens 關鍵評論網</td>\n      <td>曾被普遍視為梅克爾接班人的克朗普-卡倫鮑爾打算辭去基民盟主席職務。這一發展是否意味著該黨將更...</td>\n      <td>https://www.thenewslens.com/article/128955</td>\n      <td>0</td>\n      <td>35</td>\n      <td>0</td>\n      <td>3388</td>\n      <td>['InternationalFinance_tw', 'business_tw']</td>\n    </tr>\n    <tr>\n      <th>499</th>\n      <td>時常忽略的兒少權益：離婚協議書應增列未成年子女會面與扶養費 - The News Lens ...</td>\n      <td>反新加坡與香港的離婚程序中，多詳細兒少於父母離異後之後續照顧的保障作法，反觀臺灣的書表中並未...</td>\n      <td>https://www.thenewslens.com/article/131158</td>\n      <td>0</td>\n      <td>35</td>\n      <td>0</td>\n      <td>3388</td>\n      <td>None</td>\n    </tr>\n  </tbody>\n</table>\n<p>500 rows × 8 columns</p>\n</div>",
      "text/plain": "                                                 title  \\\n0    尺寸更大、讀寫體驗升級！Readmoo mooInk Pro 13 搶先試用心得分享 | T...   \n1     科學家在「量子糾纏」取得重大突破，「量子網際網路」時代將提前到來 | TechNews 科技新報   \n2           中國徵收私產，癌末病患被踢出院！傳蘇州工廠開工爆疫情 | TechNews 科技新報   \n3              波士頓動力機器狗要上工了，成為鑽油平臺的巡守員 | TechNews 科技新報   \n4            中國半導體業現況：晶圓廠正常運轉，晶片設計遠端辦公 | TechNews 科技新報   \n..                                                 ...   \n495  接下來的疫情關注三件事：「武漢肺炎」的特性、醫療資源侷限性，以及臺灣防疫具體目標 - The...   \n496    對中國一廂情願的「非洲秀才」，成為被中國利用的棋子 - The News Lens 關鍵評論網   \n497   將近一年的選舉廝殺後，能夠療癒社會的政治領袖存在嗎？ - The News Lens 關鍵評論網   \n498       梅克爾的基民盟會不會跟著另類選擇黨「右傾」？ - The News Lens 關鍵評論網   \n499  時常忽略的兒少權益：離婚協議書應增列未成年子女會面與扶養費 - The News Lens ...   \n\n                                           description  \\\n0    Readmoo 讀墨電子書最新 13.3 吋電子書閱讀器「mooInk Pro 13」，以重...   \n1    科學家們已經成功將兩個距離比以往更遠的「量子記憶體」（Quantum Memory）糾纏在一...   \n2    武漢肺炎的確診患者不斷增加，讓中國醫療系體系瀕臨臨界點，中國當局開始緊急徵收民營醫院、旅館、...   \n3    波士頓動力公司能開門、爬梯、跳舞、後空翻的機器狗 Spot，剛剛找到了第一份正式工作。\\r\\...   \n4    新浪科技引述第一財經報導，中國新冠肺炎疫情嚴峻，半導體業受此次疫情的影響程度也引發關注；據瞭...   \n..                                                 ...   \n495  現階段臺灣沒社區感染，正確嚴格的隔離政策最重要，其次才是個人防疫。只要境外的病毒不進來，境內...   \n496  譚德塞抗疫的宗旨是「別讓中國不開心」，但病毒卻很開心，防線不知道何時會被突破的各國，也愈來愈...   \n497  如果我們期望更成熟的公民社會，我們無法不從意見領袖自身的內在關照與心理反思出發，而意見領袖對...   \n498  曾被普遍視為梅克爾接班人的克朗普-卡倫鮑爾打算辭去基民盟主席職務。這一發展是否意味著該黨將更...   \n499  反新加坡與香港的離婚程序中，多詳細兒少於父母離異後之後續照顧的保障作法，反觀臺灣的書表中並未...   \n\n                                               linkurl  keywordtrend  \\\n0    https://technews.tw/2020/02/13/readmoo-mooink-...             0   \n1    https://technews.tw/2020/02/13/scientists-make...             0   \n2    https://technews.tw/2020/02/13/china-wuhan-pne...             0   \n3    https://technews.tw/2020/02/13/boston-dynamics...             0   \n4    https://technews.tw/2020/02/13/china-semicondu...             0   \n..                                                 ...           ...   \n495         https://www.thenewslens.com/article/131104             0   \n496         https://www.thenewslens.com/article/131155             0   \n497         https://www.thenewslens.com/article/131060             0   \n498         https://www.thenewslens.com/article/128955             0   \n499         https://www.thenewslens.com/article/131158             0   \n\n     uidactscore  socialactscore  activescore  \\\n0             85               0        34272   \n1             85               0        34272   \n2             85               0        34272   \n3             85               0        34272   \n4             85               0        34272   \n..           ...             ...          ...   \n495           35               0         3388   \n496           35               0         3388   \n497           35               0         3388   \n498           35               0         3388   \n499           35               0         3388   \n\n                                         groups  \n0                    ['3CExpert_tw', 'tech_tw']  \n1                    ['3CExpert_tw', 'tech_tw']  \n2                    ['3CExpert_tw', 'tech_tw']  \n3                    ['3CExpert_tw', 'tech_tw']  \n4                    ['3CExpert_tw', 'tech_tw']  \n..                                          ...  \n495                                        None  \n496           ['WhiteCollar_tw', 'business_tw']  \n497                                        None  \n498  ['InternationalFinance_tw', 'business_tw']  \n499                                        None  \n\n[500 rows x 8 columns]"
     },
     "execution_count": 4,
     "metadata": {},
     "output_type": "execute_result"
    }
   ],
   "source": [
    "items.to_csv('topnews.csv')\n",
    "items"
   ]
  },
  {
   "cell_type": "code",
   "execution_count": 5,
   "metadata": {},
   "outputs": [
    {
     "name": "stdout",
     "output_type": "stream",
     "text": "科技 98\n商業 90\n生活 71\n職場白領 63\n御宅學園 57\n運動 47\n享樂女性 46\n親子家庭 42\n國際財經 42\n3C達人 38\n遊戲 38\n文青聚落 23\n健身瘦身 21\n城市食旅 16\n設計 10\n"
    }
   ],
   "source": [
    "url = 'https://www.cupoy.com/MixNewsAction.do?op=getBucketGroups&nationid=TW&len=50'\n",
    "response = requests.get(url)\n",
    "\n",
    "group_map = {}\n",
    "for group in response.json():\n",
    "    group_map[group['groupid']] = group['name']\n",
    "\n",
    "group_items = {}\n",
    "for i in range(len(items)):\n",
    "    item_groups = items.iloc[i]['groups']\n",
    "    if item_groups:\n",
    "        item_groups = item_groups.replace('[', '').replace(']', '').replace('\\'', '').split(', ')\n",
    "        for group in item_groups:\n",
    "            group = group_map[group]\n",
    "            if group not in group_items:\n",
    "                group_items[group] = [i]\n",
    "            else:\n",
    "                group_items[group].append(i)\n",
    "\n",
    "for groupid in sorted(group_items, key=lambda k: len(group_items[k]), reverse=True):\n",
    "    print(groupid, len(group_items[groupid]))\n"
   ]
  },
  {
   "cell_type": "code",
   "execution_count": 6,
   "metadata": {},
   "outputs": [
    {
     "name": "stdout",
     "output_type": "stream",
     "text": "Trend News: \nFrom keywordtrend {'title': '尺寸更大、讀寫體驗升級！Readmoo mooInk Pro 13 搶先試用心得分享 | TechNews 科技新報', 'keywordtrend': 0, 'uidactscore': 85, 'socialactscore': 0, 'activescore': 34272}\nFrom uidactscore {'title': '兩大廠青睞！ITM國際信任機器拿下高通創新競賽亞軍後，再獲聯發科Pre-A輪投資｜數位時代', 'keywordtrend': 0, 'uidactscore': 105, 'socialactscore': 0, 'activescore': 10164}\nFrom socialactscore {'title': 'NOWnews 今日新聞 | 先補貼後調價？燃油機車價格漲\\u3000網友：油車廠商賺飽飽？', 'keywordtrend': 0, 'uidactscore': 80, 'socialactscore': 36934, 'activescore': 7232}\nFrom activescore {'title': '尺寸更大、讀寫體驗升級！Readmoo mooInk Pro 13 搶先試用心得分享 | TechNews 科技新報', 'keywordtrend': 0, 'uidactscore': 85, 'socialactscore': 0, 'activescore': 34272}\n"
    }
   ],
   "source": [
    "\n",
    "print('Trend News: ')\n",
    "print('From keywordtrend', items.loc[items['keywordtrend'].idxmax(), ['title', 'keywordtrend', 'uidactscore', 'socialactscore', 'activescore']].to_dict())\n",
    "print('From uidactscore', items.loc[items['uidactscore'].idxmax(), ['title', 'keywordtrend', 'uidactscore', 'socialactscore', 'activescore']].to_dict())\n",
    "print('From socialactscore', items.loc[items['socialactscore'].idxmax(), ['title', 'keywordtrend', 'uidactscore', 'socialactscore', 'activescore']].to_dict())\n",
    "print('From activescore', items.loc[items['activescore'].idxmax(), ['title', 'keywordtrend', 'uidactscore', 'socialactscore', 'activescore']].to_dict())\n"
   ]
  },
  {
   "cell_type": "code",
   "execution_count": null,
   "metadata": {},
   "outputs": [],
   "source": []
  }
 ]
}